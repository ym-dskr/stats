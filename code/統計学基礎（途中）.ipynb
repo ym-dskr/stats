{
 "cells": [
  {
   "cell_type": "markdown",
   "metadata": {
    "toc": true
   },
   "source": [
    "<h1>Table of Contents<span class=\"tocSkip\"></span></h1>\n",
    "<div class=\"toc\"><ul class=\"toc-item\"><li><span><a href=\"#ジニ係数・ローレンツ曲線\" data-toc-modified-id=\"ジニ係数・ローレンツ曲線-1\"><span class=\"toc-item-num\">1&nbsp;&nbsp;</span>ジニ係数・ローレンツ曲線</a></span></li><li><span><a href=\"#標本抽出の種類\" data-toc-modified-id=\"標本抽出の種類-2\"><span class=\"toc-item-num\">2&nbsp;&nbsp;</span>標本抽出の種類</a></span></li><li><span><a href=\"#フィッシャーの3原則\" data-toc-modified-id=\"フィッシャーの3原則-3\"><span class=\"toc-item-num\">3&nbsp;&nbsp;</span>フィッシャーの3原則</a></span></li><li><span><a href=\"#分位範囲\" data-toc-modified-id=\"分位範囲-4\"><span class=\"toc-item-num\">4&nbsp;&nbsp;</span>分位範囲</a></span><ul class=\"toc-item\"><li><span><a href=\"#外れ値\" data-toc-modified-id=\"外れ値-4.1\"><span class=\"toc-item-num\">4.1&nbsp;&nbsp;</span>外れ値</a></span></li></ul></li><li><span><a href=\"#平均\" data-toc-modified-id=\"平均-5\"><span class=\"toc-item-num\">5&nbsp;&nbsp;</span>平均</a></span></li><li><span><a href=\"#分散と標準偏差\" data-toc-modified-id=\"分散と標準偏差-6\"><span class=\"toc-item-num\">6&nbsp;&nbsp;</span>分散と標準偏差</a></span><ul class=\"toc-item\"><li><span><a href=\"#分散\" data-toc-modified-id=\"分散-6.1\"><span class=\"toc-item-num\">6.1&nbsp;&nbsp;</span>分散</a></span></li><li><span><a href=\"#標準偏差\" data-toc-modified-id=\"標準偏差-6.2\"><span class=\"toc-item-num\">6.2&nbsp;&nbsp;</span>標準偏差</a></span></li></ul></li><li><span><a href=\"#チェビシェフの不等式\" data-toc-modified-id=\"チェビシェフの不等式-7\"><span class=\"toc-item-num\">7&nbsp;&nbsp;</span>チェビシェフの不等式</a></span></li><li><span><a href=\"#変動係数\" data-toc-modified-id=\"変動係数-8\"><span class=\"toc-item-num\">8&nbsp;&nbsp;</span>変動係数</a></span></li><li><span><a href=\"#標準化\" data-toc-modified-id=\"標準化-9\"><span class=\"toc-item-num\">9&nbsp;&nbsp;</span>標準化</a></span></li><li><span><a href=\"#歪度と尖度\" data-toc-modified-id=\"歪度と尖度-10\"><span class=\"toc-item-num\">10&nbsp;&nbsp;</span>歪度と尖度</a></span></li><li><span><a href=\"#確率\" data-toc-modified-id=\"確率-11\"><span class=\"toc-item-num\">11&nbsp;&nbsp;</span>確率</a></span><ul class=\"toc-item\"><li><span><a href=\"#加法定理\" data-toc-modified-id=\"加法定理-11.1\"><span class=\"toc-item-num\">11.1&nbsp;&nbsp;</span>加法定理</a></span><ul class=\"toc-item\"><li><span><a href=\"#積事象\" data-toc-modified-id=\"積事象-11.1.1\"><span class=\"toc-item-num\">11.1.1&nbsp;&nbsp;</span>積事象</a></span></li></ul></li></ul></li><li><span><a href=\"#確率分布\" data-toc-modified-id=\"確率分布-12\"><span class=\"toc-item-num\">12&nbsp;&nbsp;</span>確率分布</a></span><ul class=\"toc-item\"><li><span><a href=\"#離散型確率分布\" data-toc-modified-id=\"離散型確率分布-12.1\"><span class=\"toc-item-num\">12.1&nbsp;&nbsp;</span>離散型確率分布</a></span><ul class=\"toc-item\"><li><span><a href=\"#二項分布\" data-toc-modified-id=\"二項分布-12.1.1\"><span class=\"toc-item-num\">12.1.1&nbsp;&nbsp;</span>二項分布</a></span></li><li><span><a href=\"#ポアソン分布\" data-toc-modified-id=\"ポアソン分布-12.1.2\"><span class=\"toc-item-num\">12.1.2&nbsp;&nbsp;</span>ポアソン分布</a></span><ul class=\"toc-item\"><li><span><a href=\"#ポアソン分布の最尤推定\" data-toc-modified-id=\"ポアソン分布の最尤推定-12.1.2.1\"><span class=\"toc-item-num\">12.1.2.1&nbsp;&nbsp;</span>ポアソン分布の最尤推定</a></span></li></ul></li></ul></li><li><span><a href=\"#連続型確率分布\" data-toc-modified-id=\"連続型確率分布-12.2\"><span class=\"toc-item-num\">12.2&nbsp;&nbsp;</span>連続型確率分布</a></span><ul class=\"toc-item\"><li><span><a href=\"#一様分布\" data-toc-modified-id=\"一様分布-12.2.1\"><span class=\"toc-item-num\">12.2.1&nbsp;&nbsp;</span>一様分布</a></span></li><li><span><a href=\"#正規分布\" data-toc-modified-id=\"正規分布-12.2.2\"><span class=\"toc-item-num\">12.2.2&nbsp;&nbsp;</span>正規分布</a></span></li><li><span><a href=\"#標準正規分布\" data-toc-modified-id=\"標準正規分布-12.2.3\"><span class=\"toc-item-num\">12.2.3&nbsp;&nbsp;</span>標準正規分布</a></span></li><li><span><a href=\"#指数分布\" data-toc-modified-id=\"指数分布-12.2.4\"><span class=\"toc-item-num\">12.2.4&nbsp;&nbsp;</span>指数分布</a></span></li></ul></li><li><span><a href=\"#累積分布関数\" data-toc-modified-id=\"累積分布関数-12.3\"><span class=\"toc-item-num\">12.3&nbsp;&nbsp;</span>累積分布関数</a></span></li></ul></li><li><span><a href=\"#推定・検定の考え方\" data-toc-modified-id=\"推定・検定の考え方-13\"><span class=\"toc-item-num\">13&nbsp;&nbsp;</span>推定・検定の考え方</a></span></li><li><span><a href=\"#母平均の区間推定\" data-toc-modified-id=\"母平均の区間推定-14\"><span class=\"toc-item-num\">14&nbsp;&nbsp;</span>母平均の区間推定</a></span><ul class=\"toc-item\"><li><span><a href=\"#母集団が正規分布で母標準偏差σが既知のケース\" data-toc-modified-id=\"母集団が正規分布で母標準偏差σが既知のケース-14.1\"><span class=\"toc-item-num\">14.1&nbsp;&nbsp;</span>母集団が正規分布で母標準偏差σが既知のケース</a></span></li><li><span><a href=\"#母集団が正規分布または非正規分布で、母標準偏差σが未知のケース（$n->=-30$）\" data-toc-modified-id=\"母集団が正規分布または非正規分布で、母標準偏差σが未知のケース（$n->=-30$）-14.2\"><span class=\"toc-item-num\">14.2&nbsp;&nbsp;</span>母集団が正規分布または非正規分布で、母標準偏差σが未知のケース（$n &gt;= 30$）</a></span></li><li><span><a href=\"#母集団が正規分布で、母標準偏差σが未知のケース（$n-<-30$）\" data-toc-modified-id=\"母集団が正規分布で、母標準偏差σが未知のケース（$n-<-30$）-14.3\"><span class=\"toc-item-num\">14.3&nbsp;&nbsp;</span>母集団が正規分布で、母標準偏差σが未知のケース（$n &lt; 30$）</a></span></li><li><span><a href=\"#標本の大きさの決定方法\" data-toc-modified-id=\"標本の大きさの決定方法-14.4\"><span class=\"toc-item-num\">14.4&nbsp;&nbsp;</span>標本の大きさの決定方法</a></span></li></ul></li><li><span><a href=\"#母比率の区間推定\" data-toc-modified-id=\"母比率の区間推定-15\"><span class=\"toc-item-num\">15&nbsp;&nbsp;</span>母比率の区間推定</a></span><ul class=\"toc-item\"><li><span><a href=\"#（補足）ベルヌーイ分布\" data-toc-modified-id=\"（補足）ベルヌーイ分布-15.1\"><span class=\"toc-item-num\">15.1&nbsp;&nbsp;</span>（補足）ベルヌーイ分布</a></span></li><li><span><a href=\"#信頼区間\" data-toc-modified-id=\"信頼区間-15.2\"><span class=\"toc-item-num\">15.2&nbsp;&nbsp;</span>信頼区間</a></span></li><li><span><a href=\"#標本の大きさの決定方法\" data-toc-modified-id=\"標本の大きさの決定方法-15.3\"><span class=\"toc-item-num\">15.3&nbsp;&nbsp;</span>標本の大きさの決定方法</a></span></li></ul></li><li><span><a href=\"#母平均の検定\" data-toc-modified-id=\"母平均の検定-16\"><span class=\"toc-item-num\">16&nbsp;&nbsp;</span>母平均の検定</a></span><ul class=\"toc-item\"><li><span><a href=\"#母標準偏差σが既知のケース\" data-toc-modified-id=\"母標準偏差σが既知のケース-16.1\"><span class=\"toc-item-num\">16.1&nbsp;&nbsp;</span>母標準偏差σが既知のケース</a></span></li><li><span><a href=\"#母標準偏差σが未知のケース\" data-toc-modified-id=\"母標準偏差σが未知のケース-16.2\"><span class=\"toc-item-num\">16.2&nbsp;&nbsp;</span>母標準偏差σが未知のケース</a></span></li></ul></li><li><span><a href=\"#相関係数の検定（無相関検定）\" data-toc-modified-id=\"相関係数の検定（無相関検定）-17\"><span class=\"toc-item-num\">17&nbsp;&nbsp;</span>相関係数の検定（無相関検定）</a></span></li><li><span><a href=\"#回帰分析\" data-toc-modified-id=\"回帰分析-18\"><span class=\"toc-item-num\">18&nbsp;&nbsp;</span>回帰分析</a></span><ul class=\"toc-item\"><li><span><a href=\"#単回帰モデルの解釈\" data-toc-modified-id=\"単回帰モデルの解釈-18.1\"><span class=\"toc-item-num\">18.1&nbsp;&nbsp;</span>単回帰モデルの解釈</a></span></li><li><span><a href=\"#重回帰モデルの解釈\" data-toc-modified-id=\"重回帰モデルの解釈-18.2\"><span class=\"toc-item-num\">18.2&nbsp;&nbsp;</span>重回帰モデルの解釈</a></span></li></ul></li></ul></div>"
   ]
  },
  {
   "cell_type": "markdown",
   "metadata": {},
   "source": [
    "# ジニ係数・ローレンツ曲線"
   ]
  },
  {
   "cell_type": "markdown",
   "metadata": {},
   "source": [
    "ローレンツ曲線やジニ係数は、貧富の格差（地域別、国別など）を見るための指標として使われている。2つの累積相対度数を用いて描かれたローレンツ曲線を使うと、「偏り＝不均等さ」を確認できる。<br>\n",
    "<img src=\"http://bellcurve.jp/statistics/wp-body/wp-content/uploads/2016/04/795316b92fc766b0181f6fef074f03fa-1.png\" width=50%>"
   ]
  },
  {
   "cell_type": "markdown",
   "metadata": {},
   "source": [
    "「偏り」や「不均等さ」を数値で表したものが「ジニ係数」。ジニ係数は完全平等線（(0,0)と(1,1)を結ぶ線：図中の黒破線）とローレンツ曲線との間の面積（次の図の橙色部分）を2倍した値。ジニ係数は0から1までの値をとり、1に近いほど偏りが大きく、0に近いほど偏りが小さいことを表す。求め方としては、対角線を結ぶ3角形の面積から各累積度数の台形面積を引いて2倍にする。<br>\n",
    "<img src=\"http://bellcurve.jp/statistics/wp-body/wp-content/uploads/2016/04/2b530e80c7d0de90885e285c5d798063-1.png\" width=50%>\n",
    "<img src=\"http://bellcurve.jp/statistics/wp-body/wp-content/uploads/2016/04/e999695b2d0698ef5d311234874e7763.png\" width=50%>\n",
    "<img src=\"http://www.pref.toyama.jp/sections/1015/ecm/back/2005apr/shihyo/_img/zu3.gif\" width=50%>"
   ]
  },
  {
   "cell_type": "markdown",
   "metadata": {},
   "source": [
    "# 標本抽出の種類"
   ]
  },
  {
   "cell_type": "markdown",
   "metadata": {},
   "source": [
    "https://bellcurve.jp/statistics/course/8007.html<br>\n",
    "\n",
    "|<div style=\"text-align: center;\">方法|<div style=\"text-align: center;\">内容|\n",
    "|:---|:---|\n",
    "|<div style=\"text-align: center;\">単純無作為抽出法|<div style=\"text-align: left;\">母集団から、乱数表を用いて必要数だけサンプルを抽出する方法。</div>|\n",
    "|<div style=\"text-align: center;\">層化抽出法（層別抽出法）|<div style=\"text-align: left;\">母集団をあらかじめいくつかの層（グループ）に分けておき、各層の中から必要な数の調査対象を無作為に抽出する方法</div>|\n",
    "|<div style=\"text-align: center;\">クラスター抽出法（集落抽出法）|<div style=\"text-align: left;\">母集団を、小集団である「クラスター（集落）」に分ける。<br>分けられたクラスターの中から、いくつかのクラスターを無作為抽出する。<br>その後、それぞれのクラスターにおいて全数調査を行う方法。|\n",
    "|<div style=\"text-align: center;\">多段抽出法|<div style=\"text-align: left;\">母集団をいくつかのグループに分け、そこから無作為抽出でいくつかグループを選び、さらにその中から<br>無作為抽出でいくつかのグループを選び・・・<br>という操作を繰り返して、最終的に選ばれたグループの中から調査対象を無作為抽出する方法|\n",
    "|<div style=\"text-align: center;\">系統抽出法|<div style=\"text-align: left;\">通し番号をつけた名簿を作成し、1番目の調査対象を無作為に選び、2番目以降の調査対象を一定の間隔で抽出する方法|\n",
    "\n",
    "\n"
   ]
  },
  {
   "cell_type": "markdown",
   "metadata": {},
   "source": [
    "# フィッシャーの3原則\n",
    "https://bellcurve.jp/statistics/course/12744.html\n",
    "\n",
    "|原則|内容|\n",
    "|:---|:---|\n",
    "|反復<br>（replication）|複数の処理を比較する際に、それぞれの処理に対して同じ条件で2回以上の繰り返し実験（評価）を行うことです。1回の測定では、測定値に違いがあっても「系統誤差（処理の違いによる差）」なのか、それとも「偶然誤差（たまたま生じる誤差）」なのかは判断できません。反復実験を行って偶然誤差のばらつきが分かれば真の平均のとりうる範囲を推測でき、この範囲よりも系統誤差が大きければ処理によって違いがあるという判断ができます。つまり反復によって、偶然誤差の大きさを評価することができるわけです。|\n",
    "|無作為化<br>（randomization）|実験の順序や場所などが複数ある場合に、比較したい処理群を無作為に（ランダムに）割り付けることです。目的とする要因以外に結果に影響を与える要因がある場合に、無作為化によってその影響の偏りをできるだけ小さくすることができます。つまり、系統誤差を偶然誤差に取り込むことができるわけです。|\n",
    "|局所管理<br>（local control）|実験を行う時間や場所を区切ってブロックを作り、そのブロック内でのバックグラウンドができるだけ均一になるように管理することです。局所管理により系統誤差を小さくすることができます。|"
   ]
  },
  {
   "cell_type": "markdown",
   "metadata": {},
   "source": [
    "# 分位範囲\n",
    "データを順番に並べて4等分したとき最初の1/4の値を第1四分位数$Q_{1}$、1/2の値(中央値)を第2四分位数$Q_{2}$、3/4の値を第3四分位数$Q_{3}$という。\n",
    "\n",
    "$$Q_{1}の順位=(データの個数+1)\\times \\frac{1}{4} \\tag{1}$$\n",
    "\n",
    "$$Q_{2}の順位=(データの個数+1)\\times \\frac{2}{4} \\tag{2}$$\n",
    "\n",
    "$$Q_{3}の順位=(データの個数+1)\\times \\frac{3}{4} \\tag{3}$$"
   ]
  },
  {
   "cell_type": "markdown",
   "metadata": {},
   "source": [
    "四分位範囲$IQR$と四分位偏差$QD$を定義すると以下、\n",
    "$$IQR=Q_{3}-Q_{1} \\tag{4}$$\n",
    "\n",
    "$$QD=\\frac{Q_{3}-Q_{1}}{2} \\tag{5}$$\n",
    "\n",
    "なお、データを小さい方から並べて$A$%に位置する値を$A$パーセンタイルという\n",
    "\n",
    "$$Aパーセンタイル=(データの個数+1)\\times \\frac{A}{100} \\tag{6}$$"
   ]
  },
  {
   "cell_type": "code",
   "execution_count": 10,
   "metadata": {},
   "outputs": [
    {
     "name": "stdout",
     "output_type": "stream",
     "text": [
      " [1] 26 43 56 21 55 51 52 78 20 82 31 22 32 56 54 42 26 34 81 55\n"
     ]
    },
    {
     "data": {
      "text/html": [
       "<style>\n",
       ".dl-inline {width: auto; margin:0; padding: 0}\n",
       ".dl-inline>dt, .dl-inline>dd {float: none; width: auto; display: inline-block}\n",
       ".dl-inline>dt::after {content: \":\\0020\"; padding-right: .5ex}\n",
       ".dl-inline>dt:not(:first-of-type) {padding-left: .5ex}\n",
       "</style><dl class=dl-inline><dt>0%</dt><dd>20</dd><dt>25%</dt><dd>29.75</dd><dt>50%</dt><dd>47</dd><dt>75%</dt><dd>55.25</dd><dt>100%</dt><dd>82</dd></dl>\n"
      ],
      "text/latex": [
       "\\begin{description*}\n",
       "\\item[0\\textbackslash{}\\%] 20\n",
       "\\item[25\\textbackslash{}\\%] 29.75\n",
       "\\item[50\\textbackslash{}\\%] 47\n",
       "\\item[75\\textbackslash{}\\%] 55.25\n",
       "\\item[100\\textbackslash{}\\%] 82\n",
       "\\end{description*}\n"
      ],
      "text/markdown": [
       "0%\n",
       ":   2025%\n",
       ":   29.7550%\n",
       ":   4775%\n",
       ":   55.25100%\n",
       ":   82\n",
       "\n"
      ],
      "text/plain": [
       "   0%   25%   50%   75%  100% \n",
       "20.00 29.75 47.00 55.25 82.00 "
      ]
     },
     "metadata": {},
     "output_type": "display_data"
    },
    {
     "data": {
      "text/html": [
       "<table>\n",
       "<caption>A matrix: 2 × 20 of type chr</caption>\n",
       "<tbody>\n",
       "\t<tr><th scope=row>a</th><td>26     </td><td>43      </td><td>56     </td><td>21     </td><td>55      </td><td>51      </td><td>52      </td><td>78     </td><td>20     </td><td>82     </td><td>31      </td><td>22     </td><td>32      </td><td>56     </td><td>54      </td><td>42      </td><td>26     </td><td>34      </td><td>81     </td><td>55      </td></tr>\n",
       "\t<tr><th scope=row>cats</th><td>--29.75</td><td>29.75-47</td><td>55.25--</td><td>--29.75</td><td>47-55.25</td><td>47-55.25</td><td>47-55.25</td><td>55.25--</td><td>--29.75</td><td>55.25--</td><td>29.75-47</td><td>--29.75</td><td>29.75-47</td><td>55.25--</td><td>47-55.25</td><td>29.75-47</td><td>--29.75</td><td>29.75-47</td><td>55.25--</td><td>47-55.25</td></tr>\n",
       "</tbody>\n",
       "</table>\n"
      ],
      "text/latex": [
       "A matrix: 2 × 20 of type chr\n",
       "\\begin{tabular}{r|llllllllllllllllllll}\n",
       "\ta & 26      & 43       & 56      & 21      & 55       & 51       & 52       & 78      & 20      & 82      & 31       & 22      & 32       & 56      & 54       & 42       & 26      & 34       & 81      & 55      \\\\\n",
       "\tcats & --29.75 & 29.75-47 & 55.25-- & --29.75 & 47-55.25 & 47-55.25 & 47-55.25 & 55.25-- & --29.75 & 55.25-- & 29.75-47 & --29.75 & 29.75-47 & 55.25-- & 47-55.25 & 29.75-47 & --29.75 & 29.75-47 & 55.25-- & 47-55.25\\\\\n",
       "\\end{tabular}\n"
      ],
      "text/markdown": [
       "\n",
       "A matrix: 2 × 20 of type chr\n",
       "\n",
       "| a | 26      | 43       | 56      | 21      | 55       | 51       | 52       | 78      | 20      | 82      | 31       | 22      | 32       | 56      | 54       | 42       | 26      | 34       | 81      | 55       |\n",
       "| cats | --29.75 | 29.75-47 | 55.25-- | --29.75 | 47-55.25 | 47-55.25 | 47-55.25 | 55.25-- | --29.75 | 55.25-- | 29.75-47 | --29.75 | 29.75-47 | 55.25-- | 47-55.25 | 29.75-47 | --29.75 | 29.75-47 | 55.25-- | 47-55.25 |\n",
       "\n"
      ],
      "text/plain": [
       "     [,1]    [,2]     [,3]    [,4]    [,5]     [,6]     [,7]     [,8]   \n",
       "a    26      43       56      21      55       51       52       78     \n",
       "cats --29.75 29.75-47 55.25-- --29.75 47-55.25 47-55.25 47-55.25 55.25--\n",
       "     [,9]    [,10]   [,11]    [,12]   [,13]    [,14]   [,15]    [,16]   \n",
       "a    20      82      31       22      32       56      54       42      \n",
       "cats --29.75 55.25-- 29.75-47 --29.75 29.75-47 55.25-- 47-55.25 29.75-47\n",
       "     [,17]   [,18]    [,19]   [,20]   \n",
       "a    26      34       81      55      \n",
       "cats --29.75 29.75-47 55.25-- 47-55.25"
      ]
     },
     "metadata": {},
     "output_type": "display_data"
    },
    {
     "data": {
      "image/png": "[encoded data removed]",
      "text/plain": [
       "plot without title"
      ]
     },
     "metadata": {
      "image/png": {
       "height": 240,
       "width": 600
      },
      "text/plain": {
       "height": 240,
       "width": 600
      }
     },
     "output_type": "display_data"
    }
   ],
   "source": [
    "library(tidyverse)\n",
    "set.seed(3)\n",
    "#quantile(x)関数で、分位数を計算できる\n",
    "a <- round(rnorm(20, mean = 50, sd = 25),0)\n",
    "print(a)\n",
    "quantile(a)\n",
    "\n",
    "seqs <- quantile(a)[2:4] # quantile関数で四分位数と中央値を取り出す\n",
    "brks <- c(-Inf, seqs, Inf)\n",
    "gs <- paste(c(\"-\", seqs), c(seqs, \"-\"), sep=\"-\")\n",
    "# カテゴリー生成\n",
    "cats <- cut(a, breaks=brks, right=FALSE, include.lowest=TRUE, labels=gs)\n",
    "# 確認\n",
    "data.frame(a, cats) %>% t()\n",
    "options(repr.plot.width=10, repr.plot.height=4)\n",
    "barplot(table(cats))"
   ]
  },
  {
   "cell_type": "code",
   "execution_count": 2,
   "metadata": {},
   "outputs": [
    {
     "name": "stdout",
     "output_type": "stream",
     "text": [
      "[1] \"IQR : 27    QD : 13.5\"\n"
     ]
    }
   ],
   "source": [
    "IQR <- quantile(a)[[3]] - quantile(a)[[1]]\n",
    "QD <- (quantile(a)[[3]] - quantile(a)[[1]])/2\n",
    "print(paste(\"IQR :\",IQR, \"  \", \"QD :\", QD))"
   ]
  },
  {
   "cell_type": "code",
   "execution_count": 3,
   "metadata": {
    "scrolled": true
   },
   "outputs": [
    {
     "data": {
      "image/png": "[encoded data removed]",
      "text/plain": [
       "plot without title"
      ]
     },
     "metadata": {
      "image/png": {
       "height": 240,
       "width": 600
      },
      "text/plain": {
       "height": 240,
       "width": 600
      }
     },
     "output_type": "display_data"
    }
   ],
   "source": [
    "options(repr.plot.width=10, repr.plot.height=4)\n",
    "boxplot(a, horizontal=T)"
   ]
  },
  {
   "cell_type": "markdown",
   "metadata": {},
   "source": [
    "## 外れ値\n",
    "$Q_{1}-1.5IQR$より小さいか、$Q_{3}+1.5IQR$より大きいデータを外れ値とする場合がある。"
   ]
  },
  {
   "cell_type": "code",
   "execution_count": 4,
   "metadata": {},
   "outputs": [
    {
     "data": {
      "text/html": [
       "-20.5"
      ],
      "text/latex": [
       "-20.5"
      ],
      "text/markdown": [
       "-20.5"
      ],
      "text/plain": [
       "[1] -20.5"
      ]
     },
     "metadata": {},
     "output_type": "display_data"
    },
    {
     "data": {
      "text/html": [
       "87.5"
      ],
      "text/latex": [
       "87.5"
      ],
      "text/markdown": [
       "87.5"
      ],
      "text/plain": [
       "[1] 87.5"
      ]
     },
     "metadata": {},
     "output_type": "display_data"
    }
   ],
   "source": [
    "quantile(a)[[1]]-1.5*IQR\n",
    "quantile(a)[[3]]+1.5*IQR"
   ]
  },
  {
   "cell_type": "markdown",
   "metadata": {},
   "source": [
    "# 平均\n",
    "$X$を確率変数、$p$を確率とすると、期待値（平均）は以下、\n",
    "\n",
    "$$E(X) = \\mu = \\sum_{i=1}^{} x_{i}p_{i}\\tag{7}$$\n",
    "\n",
    "確率変数$X$を$a$倍した場合の期待値は以下、\n",
    "\n",
    "\\begin{align}\n",
    "E(aX) &= \\sum_{i}^{}ax_{i}p_{i}\\\\\n",
    "&= a \\sum_{i}^{}x_{i}p_{i}\\\\\n",
    "&= aE(X)\\tag{8}\n",
    "\\end{align}\n",
    "\n",
    "8式、結構大事。分散の性質と合わせて覚えておく事"
   ]
  },
  {
   "cell_type": "markdown",
   "metadata": {},
   "source": [
    "# 分散と標準偏差\n",
    "データの散らばりを図る指標として、もっとも重要で使用されるものが分散と標準偏差。\n",
    "\n",
    "## 分散\n",
    "平均値からのずれを2乗し、平均を取ったもの。分散は $(X−\\mu)^2$ の期待値とも定義される。<br>\n",
    "(n-1で割っているのは標本の不偏分散。母集団と標本の違いをしっかり意識すること。ギリシャ文字でも基本区別される。母集団が分かっている場合はnで割ればいい）\n",
    "\n",
    "$$ v \\equiv s^2 \\equiv \\frac{\\Sigma(X-\\mu)^2}{n-1} \\tag{9}$$\n",
    "\n",
    "\n",
    "\\begin{align}\n",
    "V(X) &\\equiv E[(X-\\mu)^2]\\\\\n",
    "&= \\sum_{i}^{}(x_{i}-\\mu)^2 p_{i} \\tag{10}\\\\\n",
    "&= \\sum_{i}^{}(x_{i}^2-2x_{i}\\mu+\\mu^2)p_{i}\\\\\n",
    "&= \\sum_{i}^{}x_{i}^2p_{i}-2\\mu\\sum_{i}^{}x_{i}p_{i}+\\mu^2\\sum_{i}^{}p_{i}\\\\\n",
    "\\end{align}"
   ]
  },
  {
   "cell_type": "markdown",
   "metadata": {},
   "source": [
    "ここで、$\\sum_{i} p_{i}=1$と、$\\sum_{i}^{} x_{i}p_{i}=\\mu$より、"
   ]
  },
  {
   "cell_type": "markdown",
   "metadata": {},
   "source": [
    "\\begin{align}\n",
    "&= \\sum_{i}^{} x_{i}^2 p_{i} -2 \\mu^2 + \\mu^2\\\\\n",
    "&= \\sum_{i}^{} x_{i}^2 p_{i} - \\mu^2\\\\\n",
    "&= E(X^2)-[E(X)]^2\\tag{11}\n",
    "\\end{align}\n"
   ]
  },
  {
   "cell_type": "markdown",
   "metadata": {},
   "source": [
    "$(11)$の公式はよく使うので覚えておくと良い。"
   ]
  },
  {
   "cell_type": "markdown",
   "metadata": {},
   "source": [
    "また、平均の8式と同様に覚えておくべき性質として以下、\n",
    "\n",
    "$$V(aX + b) = a^2V(X)\\tag{12}$$\n",
    "\n",
    "分散の場合は、確率変数の係数が2乗されて外に出る。8式と12式はしっかり覚えておく事。"
   ]
  },
  {
   "cell_type": "markdown",
   "metadata": {},
   "source": [
    "## 標準偏差\n",
    "母集団の標準偏差は$\\sigma$で表される。標本の標準偏差は$s$でよく表される。\n",
    "\n",
    "$$s = \\sqrt{\\frac{\\Sigma(X-\\mu)^2}{n-1}}$$\n",
    "\n",
    "$$\\sigma \\equiv\\sqrt {V(X)}$$"
   ]
  },
  {
   "cell_type": "code",
   "execution_count": 9,
   "metadata": {},
   "outputs": [
    {
     "data": {
      "text/html": [
       "<table>\n",
       "<caption>A data.frame: 20 × 6</caption>\n",
       "<thead>\n",
       "\t<tr><th scope=col>a</th><th scope=col>mean</th><th scope=col>V</th><th scope=col>v</th><th scope=col>σ</th><th scope=col>s</th></tr>\n",
       "\t<tr><th scope=col>&lt;dbl&gt;</th><th scope=col>&lt;dbl&gt;</th><th scope=col>&lt;dbl&gt;</th><th scope=col>&lt;dbl&gt;</th><th scope=col>&lt;dbl&gt;</th><th scope=col>&lt;dbl&gt;</th></tr>\n",
       "</thead>\n",
       "<tbody>\n",
       "\t<tr><td>26</td><td>45.9</td><td>364.9</td><td>384.1</td><td>19.1</td><td>19.6</td></tr>\n",
       "\t<tr><td>43</td><td>45.9</td><td>364.9</td><td>384.1</td><td>19.1</td><td>19.6</td></tr>\n",
       "\t<tr><td>56</td><td>45.9</td><td>364.9</td><td>384.1</td><td>19.1</td><td>19.6</td></tr>\n",
       "\t<tr><td>21</td><td>45.9</td><td>364.9</td><td>384.1</td><td>19.1</td><td>19.6</td></tr>\n",
       "\t<tr><td>55</td><td>45.9</td><td>364.9</td><td>384.1</td><td>19.1</td><td>19.6</td></tr>\n",
       "\t<tr><td>51</td><td>45.9</td><td>364.9</td><td>384.1</td><td>19.1</td><td>19.6</td></tr>\n",
       "\t<tr><td>52</td><td>45.9</td><td>364.9</td><td>384.1</td><td>19.1</td><td>19.6</td></tr>\n",
       "\t<tr><td>78</td><td>45.9</td><td>364.9</td><td>384.1</td><td>19.1</td><td>19.6</td></tr>\n",
       "\t<tr><td>20</td><td>45.9</td><td>364.9</td><td>384.1</td><td>19.1</td><td>19.6</td></tr>\n",
       "\t<tr><td>82</td><td>45.9</td><td>364.9</td><td>384.1</td><td>19.1</td><td>19.6</td></tr>\n",
       "\t<tr><td>31</td><td>45.9</td><td>364.9</td><td>384.1</td><td>19.1</td><td>19.6</td></tr>\n",
       "\t<tr><td>22</td><td>45.9</td><td>364.9</td><td>384.1</td><td>19.1</td><td>19.6</td></tr>\n",
       "\t<tr><td>32</td><td>45.9</td><td>364.9</td><td>384.1</td><td>19.1</td><td>19.6</td></tr>\n",
       "\t<tr><td>56</td><td>45.9</td><td>364.9</td><td>384.1</td><td>19.1</td><td>19.6</td></tr>\n",
       "\t<tr><td>54</td><td>45.9</td><td>364.9</td><td>384.1</td><td>19.1</td><td>19.6</td></tr>\n",
       "\t<tr><td>42</td><td>45.9</td><td>364.9</td><td>384.1</td><td>19.1</td><td>19.6</td></tr>\n",
       "\t<tr><td>26</td><td>45.9</td><td>364.9</td><td>384.1</td><td>19.1</td><td>19.6</td></tr>\n",
       "\t<tr><td>34</td><td>45.9</td><td>364.9</td><td>384.1</td><td>19.1</td><td>19.6</td></tr>\n",
       "\t<tr><td>81</td><td>45.9</td><td>364.9</td><td>384.1</td><td>19.1</td><td>19.6</td></tr>\n",
       "\t<tr><td>55</td><td>45.9</td><td>364.9</td><td>384.1</td><td>19.1</td><td>19.6</td></tr>\n",
       "</tbody>\n",
       "</table>\n"
      ],
      "text/latex": [
       "A data.frame: 20 × 6\n",
       "\\begin{tabular}{llllll}\n",
       " a & mean & V & v & σ & s\\\\\n",
       " <dbl> & <dbl> & <dbl> & <dbl> & <dbl> & <dbl>\\\\\n",
       "\\hline\n",
       "\t 26 & 45.9 & 364.9 & 384.1 & 19.1 & 19.6\\\\\n",
       "\t 43 & 45.9 & 364.9 & 384.1 & 19.1 & 19.6\\\\\n",
       "\t 56 & 45.9 & 364.9 & 384.1 & 19.1 & 19.6\\\\\n",
       "\t 21 & 45.9 & 364.9 & 384.1 & 19.1 & 19.6\\\\\n",
       "\t 55 & 45.9 & 364.9 & 384.1 & 19.1 & 19.6\\\\\n",
       "\t 51 & 45.9 & 364.9 & 384.1 & 19.1 & 19.6\\\\\n",
       "\t 52 & 45.9 & 364.9 & 384.1 & 19.1 & 19.6\\\\\n",
       "\t 78 & 45.9 & 364.9 & 384.1 & 19.1 & 19.6\\\\\n",
       "\t 20 & 45.9 & 364.9 & 384.1 & 19.1 & 19.6\\\\\n",
       "\t 82 & 45.9 & 364.9 & 384.1 & 19.1 & 19.6\\\\\n",
       "\t 31 & 45.9 & 364.9 & 384.1 & 19.1 & 19.6\\\\\n",
       "\t 22 & 45.9 & 364.9 & 384.1 & 19.1 & 19.6\\\\\n",
       "\t 32 & 45.9 & 364.9 & 384.1 & 19.1 & 19.6\\\\\n",
       "\t 56 & 45.9 & 364.9 & 384.1 & 19.1 & 19.6\\\\\n",
       "\t 54 & 45.9 & 364.9 & 384.1 & 19.1 & 19.6\\\\\n",
       "\t 42 & 45.9 & 364.9 & 384.1 & 19.1 & 19.6\\\\\n",
       "\t 26 & 45.9 & 364.9 & 384.1 & 19.1 & 19.6\\\\\n",
       "\t 34 & 45.9 & 364.9 & 384.1 & 19.1 & 19.6\\\\\n",
       "\t 81 & 45.9 & 364.9 & 384.1 & 19.1 & 19.6\\\\\n",
       "\t 55 & 45.9 & 364.9 & 384.1 & 19.1 & 19.6\\\\\n",
       "\\end{tabular}\n"
      ],
      "text/markdown": [
       "\n",
       "A data.frame: 20 × 6\n",
       "\n",
       "| a &lt;dbl&gt; | mean &lt;dbl&gt; | V &lt;dbl&gt; | v &lt;dbl&gt; | σ &lt;dbl&gt; | s &lt;dbl&gt; |\n",
       "|---|---|---|---|---|---|\n",
       "| 26 | 45.9 | 364.9 | 384.1 | 19.1 | 19.6 |\n",
       "| 43 | 45.9 | 364.9 | 384.1 | 19.1 | 19.6 |\n",
       "| 56 | 45.9 | 364.9 | 384.1 | 19.1 | 19.6 |\n",
       "| 21 | 45.9 | 364.9 | 384.1 | 19.1 | 19.6 |\n",
       "| 55 | 45.9 | 364.9 | 384.1 | 19.1 | 19.6 |\n",
       "| 51 | 45.9 | 364.9 | 384.1 | 19.1 | 19.6 |\n",
       "| 52 | 45.9 | 364.9 | 384.1 | 19.1 | 19.6 |\n",
       "| 78 | 45.9 | 364.9 | 384.1 | 19.1 | 19.6 |\n",
       "| 20 | 45.9 | 364.9 | 384.1 | 19.1 | 19.6 |\n",
       "| 82 | 45.9 | 364.9 | 384.1 | 19.1 | 19.6 |\n",
       "| 31 | 45.9 | 364.9 | 384.1 | 19.1 | 19.6 |\n",
       "| 22 | 45.9 | 364.9 | 384.1 | 19.1 | 19.6 |\n",
       "| 32 | 45.9 | 364.9 | 384.1 | 19.1 | 19.6 |\n",
       "| 56 | 45.9 | 364.9 | 384.1 | 19.1 | 19.6 |\n",
       "| 54 | 45.9 | 364.9 | 384.1 | 19.1 | 19.6 |\n",
       "| 42 | 45.9 | 364.9 | 384.1 | 19.1 | 19.6 |\n",
       "| 26 | 45.9 | 364.9 | 384.1 | 19.1 | 19.6 |\n",
       "| 34 | 45.9 | 364.9 | 384.1 | 19.1 | 19.6 |\n",
       "| 81 | 45.9 | 364.9 | 384.1 | 19.1 | 19.6 |\n",
       "| 55 | 45.9 | 364.9 | 384.1 | 19.1 | 19.6 |\n",
       "\n"
      ],
      "text/plain": [
       "   a  mean V     v     σ   s   \n",
       "1  26 45.9 364.9 384.1 19.1 19.6\n",
       "2  43 45.9 364.9 384.1 19.1 19.6\n",
       "3  56 45.9 364.9 384.1 19.1 19.6\n",
       "4  21 45.9 364.9 384.1 19.1 19.6\n",
       "5  55 45.9 364.9 384.1 19.1 19.6\n",
       "6  51 45.9 364.9 384.1 19.1 19.6\n",
       "7  52 45.9 364.9 384.1 19.1 19.6\n",
       "8  78 45.9 364.9 384.1 19.1 19.6\n",
       "9  20 45.9 364.9 384.1 19.1 19.6\n",
       "10 82 45.9 364.9 384.1 19.1 19.6\n",
       "11 31 45.9 364.9 384.1 19.1 19.6\n",
       "12 22 45.9 364.9 384.1 19.1 19.6\n",
       "13 32 45.9 364.9 384.1 19.1 19.6\n",
       "14 56 45.9 364.9 384.1 19.1 19.6\n",
       "15 54 45.9 364.9 384.1 19.1 19.6\n",
       "16 42 45.9 364.9 384.1 19.1 19.6\n",
       "17 26 45.9 364.9 384.1 19.1 19.6\n",
       "18 34 45.9 364.9 384.1 19.1 19.6\n",
       "19 81 45.9 364.9 384.1 19.1 19.6\n",
       "20 55 45.9 364.9 384.1 19.1 19.6"
      ]
     },
     "metadata": {},
     "output_type": "display_data"
    }
   ],
   "source": [
    "library(magrittr)\n",
    "sample <- data.frame(a)\n",
    "sample %<>% mutate(mean = sum(a)/nrow(.))#平均\n",
    "sample %<>% mutate(V = mean(a^2) - (mean^2), v = sum((a-mean)^2)/(nrow(.)-1)) #母分散、標本不偏分散\n",
    "sample %>% mutate(σ=V^(1/2) , s=v^(1/2))  %>% round(.,1) #母標準偏差、標本標準偏差"
   ]
  },
  {
   "cell_type": "code",
   "execution_count": 6,
   "metadata": {},
   "outputs": [
    {
     "data": {
      "text/html": [
       "19.5993420942213"
      ],
      "text/latex": [
       "19.5993420942213"
      ],
      "text/markdown": [
       "19.5993420942213"
      ],
      "text/plain": [
       "[1] 19.59934"
      ]
     },
     "metadata": {},
     "output_type": "display_data"
    },
    {
     "data": {
      "text/html": [
       "384.134210526316"
      ],
      "text/latex": [
       "384.134210526316"
      ],
      "text/markdown": [
       "384.134210526316"
      ],
      "text/plain": [
       "[1] 384.1342"
      ]
     },
     "metadata": {},
     "output_type": "display_data"
    }
   ],
   "source": [
    "#確認\n",
    "sd(a);var(a)#標本標準偏差、不偏分散（Rには母分散、母標準偏差を求める関数はない）"
   ]
  },
  {
   "cell_type": "code",
   "execution_count": 8,
   "metadata": {},
   "outputs": [
    {
     "data": {
      "text/html": [
       "19.1030756685933"
      ],
      "text/latex": [
       "19.1030756685933"
      ],
      "text/markdown": [
       "19.1030756685933"
      ],
      "text/plain": [
       "[1] 19.10308"
      ]
     },
     "metadata": {},
     "output_type": "display_data"
    },
    {
     "data": {
      "text/html": [
       "364.9275"
      ],
      "text/latex": [
       "364.9275"
      ],
      "text/markdown": [
       "364.9275"
      ],
      "text/plain": [
       "[1] 364.9275"
      ]
     },
     "metadata": {},
     "output_type": "display_data"
    }
   ],
   "source": [
    "#確認\n",
    "sqrt(((length(a)-1)/length(a))*var(a))#母標準偏差\n",
    "((length(a)-1)/length(a))*var(a)#母分散"
   ]
  },
  {
   "cell_type": "markdown",
   "metadata": {},
   "source": [
    "標本分散に比べ、不偏分散は小さい。統計理論上、母集団の分散を知ろうとするときは、不偏分散の方が望ましい推定値になる。"
   ]
  },
  {
   "cell_type": "markdown",
   "metadata": {},
   "source": [
    "# チェビシェフの不等式\n",
    "データがどのような分布の形をしていても次の関係が成り立つことがわかっている。<br>\n",
    "算術平均$X$、標準偏差$s$、任意の正の値$k$において以下、\n",
    "\n",
    "$$(\\bar{X}-k\\times sと\\bar{X}+k\\times s間に含まれるデータ割合) \\geqq 1-\\frac{1}{k^2}$$\n",
    "\n",
    "2$s$で少なくとも約75%<br>\n",
    "3$s$で少なくとも約89%<br>\n",
    "4$s$で少なくとも約94%が含まれる。"
   ]
  },
  {
   "cell_type": "markdown",
   "metadata": {},
   "source": [
    "# 変動係数\n",
    "標準偏差$s$を算術平均$\\bar{X}$で割った商に、100をかけたもの。変動係数を計算すると、$s$が$\\bar{X}$に対して何パーセントの大きさかが分かる。つまり、データの平均や単位や標準偏差が全く違うデータ群同士の散らばり具合を相対的に比較することができる。\n",
    "\n",
    "$$CV = \\frac{s}{\\bar{X}}\\times 100$$"
   ]
  },
  {
   "cell_type": "markdown",
   "metadata": {},
   "source": [
    "# 標準化\n",
    "標準化変量$z$は、基準値、$z$スコアとも呼ばれる。平均$\\bar{X}$から標準偏差$s$の何倍離れているかを示す指標となっている。これによってその値がデータ全体の中でどのあたりに位置しているかが分かり、個々のデータの要純化変量を求めると、データ全体の中での相対的な位置を互いに比較することができる。\n",
    "\n",
    "$$z=\\frac{X-\\bar{X}}{s}$$\n",
    "\n",
    "なお、偏差値はこの標準化量の基準を50にし、標準偏差を10としたもの。\n",
    "\n",
    "$$偏差値=\\frac{X-\\bar{X}}{s}\\times 10 + 50$$"
   ]
  },
  {
   "cell_type": "markdown",
   "metadata": {},
   "source": [
    "# 歪度と尖度"
   ]
  },
  {
   "cell_type": "markdown",
   "metadata": {},
   "source": [
    "歪度とはデータ分布のゆがみ（非対称性）、つまりデータの分布が左右対称であるかどうかをチェックするための指標。\n",
    "離散確率変数の場合、\n",
    "\n",
    "$$\n"
   ]
  },
  {
   "cell_type": "markdown",
   "metadata": {},
   "source": [
    "# 確率\n",
    "サイコロを投げるように、同じ状態の元で繰り返すことができ、その結果が偶然によって決まる実験や観測を**試行**といい、その結果を**事象**という。<br>\n",
    "「事象$A$が起こらない」という事象を$A$の**余事象**（$\\bar A$）という。"
   ]
  },
  {
   "cell_type": "markdown",
   "metadata": {},
   "source": [
    "## 加法定理\n",
    "### 積事象\n",
    "2つの事象$A$と$B$において、「$A$と$B$がともに起こる」という事象を$A$と$B$の積事象$A \\cap B$といい、その確率を$P(A\\cap B)$とする。"
   ]
  },
  {
   "cell_type": "markdown",
   "metadata": {},
   "source": []
  },
  {
   "cell_type": "markdown",
   "metadata": {},
   "source": []
  },
  {
   "cell_type": "markdown",
   "metadata": {},
   "source": []
  },
  {
   "cell_type": "markdown",
   "metadata": {},
   "source": [
    "# 確率分布"
   ]
  },
  {
   "cell_type": "markdown",
   "metadata": {},
   "source": [
    "## 離散型確率分布"
   ]
  },
  {
   "cell_type": "markdown",
   "metadata": {},
   "source": [
    "### 二項分布"
   ]
  },
  {
   "cell_type": "markdown",
   "metadata": {},
   "source": [
    "### ポアソン分布"
   ]
  },
  {
   "cell_type": "markdown",
   "metadata": {},
   "source": [
    "ポアソン分布の特徴\n",
    "\n",
    "- 対象がカウントデータであること\n",
    "- 標本平均が分かっている\n",
    "- 分布は一山の分布になっている\n",
    "\n",
    "事を前提として、ある物体の個数$y_i=y$となるような確率はどれくらいか？を表した確率分布。<br>\n",
    "平均$\\lambda$のポアソン分布に従う確率変数が、$y$という値になる確率は、<br>\n",
    "\n",
    "$$p(y|\\lambda) = \\cfrac{\\lambda^{y}exp(-\\lambda)}{y!}$$\n",
    "\n",
    "と表せる。\n"
   ]
  },
  {
   "cell_type": "code",
   "execution_count": 1,
   "metadata": {},
   "outputs": [
    {
     "data": {
      "image/png": "[encoded data removed]",
      "text/plain": [
       "plot without title"
      ]
     },
     "metadata": {
      "image/png": {
       "height": 420,
       "width": 420
      }
     },
     "output_type": "display_data"
    }
   ],
   "source": [
    "prob_3 <- dpois(0:9, lambda = 3.56)\n",
    "# prob_4 <- dpois(0:9, lambda = 4)\n",
    "# prob_6 <- dpois(0:9, lambda = 6)\n",
    "plot(prob_3, ann=F, pch = 1, xlim = c(0, 10), ylim = c(0, 0.25), type='b')\n",
    "# par(new=T);plot(prob_4, ann=F, pch = 2, xlim = c(0, 10), ylim = c(0, 0.25), type='l')\n",
    "# par(new=T);plot(prob_6, pch = 3, xlim = c(0, 10), ylim = c(0, 0.25), type='l')"
   ]
  },
  {
   "cell_type": "markdown",
   "metadata": {},
   "source": [
    "#### ポアソン分布の最尤推定\n",
    "\n",
    "最尤推定法とは、尤度なる「当てはまりの良さ」を表す統計量を最大にするようなパラメータの値を探そうとするパラメータ推定方法。<br>\n",
    "尤度の実態は、ある値$\\lambda$を決めた時に、全ての個体$i$についての$p(y_{i}|\\lambda)$の積となる。\n",
    "例えばいまデータが3個体分、{$y_{1}, y_{2}, y_{3}$} = {2, 2, 4}、たったこれだけだった場合には、尤度は大体<br>\n",
    "\n",
    "$$1.80 \\times 1.80 \\times 1.90 = 0.006156$$\n",
    "\n",
    "のような値となる。\n",
    "\n"
   ]
  },
  {
   "cell_type": "markdown",
   "metadata": {},
   "source": [
    "## 連続型確率分布"
   ]
  },
  {
   "cell_type": "markdown",
   "metadata": {},
   "source": [
    "### 一様分布"
   ]
  },
  {
   "cell_type": "markdown",
   "metadata": {},
   "source": [
    "### 正規分布"
   ]
  },
  {
   "cell_type": "markdown",
   "metadata": {},
   "source": [
    "### 標準正規分布"
   ]
  },
  {
   "cell_type": "markdown",
   "metadata": {},
   "source": [
    "### 指数分布\n"
   ]
  },
  {
   "cell_type": "markdown",
   "metadata": {},
   "source": [
    "## 累積分布関数\n"
   ]
  },
  {
   "cell_type": "markdown",
   "metadata": {},
   "source": [
    "# 推定・検定の考え方\n",
    "\n",
    "一つの母集団（母平均：$ \\mu$、母分散：$ \\sigma^2$）から得た$n$個の無作為標本に基づく標本平均$\\bar{X}$は、標本数$n$が大きければ$ N( \\mu, \\sigma^2)$、<br>\n",
    "つまり、平均$\\mu$, 分散$\\frac{\\sigma^2}{n}$の正規分布$N( \\mu, \\frac{\\sigma^2}{{n}})$に近似的に従う。よって、$\\bar{X}$を標準化した、\n",
    "\n",
    "$$z = \\frac{\\bar{X}- \\mu}{\\frac{\\sigma}{\\sqrt{n}}}$$\n",
    "\n",
    "$z$の分布も、「標準正規分布」$N( 0, 1)$に従う。<br>"
   ]
  },
  {
   "cell_type": "markdown",
   "metadata": {},
   "source": [
    "# 母平均の区間推定\n",
    "\n",
    "一般的な区間推定の方法\n",
    "\n",
    "|<div style=\"text-align: center;\">母集団の分布|<div style=\"text-align: center;\">$\\sigma$が既知|<div style=\"text-align: center;\">$\\sigma$が既知|<div style=\"text-align: center;\">$\\sigma$が未知|<div style=\"text-align: center;\">$\\sigma$が未知|\n",
    "|---|---|---|---|---|\n",
    "|.|<div style=\"text-align: center;\">$n>=30$|<div style=\"text-align: center;\">$n<30$|<div style=\"text-align: center;\">$n>=30$|<div style=\"text-align: center;\">$n<30$|\n",
    "|正規分布|<div style=\"text-align: center;\">正規分布|<div style=\"text-align: center;\">正規分布|<div style=\"text-align: center;\">$t$分布<br>または<br>正規分布による近似|<div style=\"text-align: center;\">$t$分布|\n",
    "|非正規分布|<div style=\"text-align: center;\">正規分布による近似|<div style=\"text-align: center;\">なし|<div style=\"text-align: center;\">正規分布による近似|<div style=\"text-align: center;\">なし|"
   ]
  },
  {
   "cell_type": "markdown",
   "metadata": {},
   "source": [
    "## 母集団が正規分布で母標準偏差σが既知のケース\n",
    "\n",
    "信頼係数95%の信頼区間\n",
    "\n",
    "$$\\bar{X} - 1.96・\\frac{\\sigma}{\\sqrt{n}} ~~\\leqq~~  \\mu ~~\\leqq~~ \\bar{X} + 1.96・\\frac{\\sigma}{\\sqrt{n}}$$\n",
    "\n",
    "上式の導出については、先ほどの$z$の分布が、標準正規分布に従うということから導ける。<br>\n",
    "確率95%の$z$の範囲は、-1.96 ~ +1.96より次の式が書ける。\n",
    "\n",
    "$$- 1.96 ~~\\leqq~~  z ~~\\leqq~~ 1.96$$<br>\n",
    "$$- 1.96 ~~\\leqq~~  \\frac{\\bar{X}- \\mu}{\\frac{\\sigma}{\\sqrt{n}}} ~~\\leqq~~ 1.96$$<br>\n",
    "\n",
    "$$- 1.96・\\frac{\\sigma}{\\sqrt{n}}  ~~\\leqq~~  \\bar{X}- \\mu ~~\\leqq~~ 1.96・\\frac{\\sigma}{\\sqrt{n}} $$<br>\n",
    "\n",
    "\n",
    "$$\\bar{X} - 1.96・\\frac{\\sigma}{\\sqrt{n}} ~~\\leqq~~  \\mu ~~\\leqq~~ \\bar{X} + 1.96・\\frac{\\sigma}{\\sqrt{n}}$$"
   ]
  },
  {
   "cell_type": "code",
   "execution_count": 3,
   "metadata": {},
   "outputs": [],
   "source": [
    "library(ggplot2)\n",
    "# 正規分布\n",
    "# seq(a,b,n):下限a、上限b、分割数nの等差数列を作る。\n",
    "x <-  seq(-4, 4, length=1000)\n",
    "# mean:平均値、sd：標準偏差(sd = sqrt(sigma^2))\n",
    "fx <- dnorm(x=x,mean=0,sd = 1)\n",
    "data <-data.frame(x=x,y=fx)"
   ]
  },
  {
   "cell_type": "code",
   "execution_count": 25,
   "metadata": {
    "scrolled": true
   },
   "outputs": [
    {
     "data": {
      "image/png": "[encoded data removed]",
      "text/plain": [
       "plot without title"
      ]
     },
     "metadata": {
      "image/png": {
       "height": 240,
       "width": 600
      },
      "text/plain": {
       "height": 240,
       "width": 600
      }
     },
     "output_type": "display_data"
    }
   ],
   "source": [
    "options(repr.plot.width=10, repr.plot.height=4)\n",
    "options(warn=-1)\n",
    "ggplot(data, aes(x=x,y=y)) + \n",
    "geom_line() +\n",
    "geom_area(data=data[data$x >= -1.96 & data$x <= 1.96,], fill=\"red\", alpha = 2/10) +\n",
    "geom_text(x=0, y=0.1, label=\"95%\", color=\"blue\", size=6) +\n",
    "geom_text(x=-1.8, y=0.05, label=\"-1.96σ\", color=\"blue\", size=6) +\n",
    "geom_text(x=1.8, y=0.05, label=\"1.96σ\", color=\"blue\", size=6)+\n",
    "theme_gray (base_family = \"HiraKakuPro-W3\")+\n",
    "ggtitle(\"信頼係数95%の信頼区間\")\n"
   ]
  },
  {
   "cell_type": "code",
   "execution_count": 6,
   "metadata": {},
   "outputs": [
    {
     "data": {
      "image/png": "[encoded data removed]",
      "text/plain": [
       "plot without title"
      ]
     },
     "metadata": {
      "image/png": {
       "height": 420,
       "width": 420
      },
      "text/plain": {
       "height": 420,
       "width": 420
      }
     },
     "output_type": "display_data"
    }
   ],
   "source": [
    "#標準関数で正規分布を描く\n",
    "curve(dnorm(x), -3, 3, col=\"red\")"
   ]
  },
  {
   "cell_type": "code",
   "execution_count": 3,
   "metadata": {},
   "outputs": [
    {
     "data": {
      "text/html": [
       "-1.95996398454005"
      ],
      "text/latex": [
       "-1.95996398454005"
      ],
      "text/markdown": [
       "-1.95996398454005"
      ],
      "text/plain": [
       "[1] -1.959964"
      ]
     },
     "metadata": {},
     "output_type": "display_data"
    }
   ],
   "source": [
    "#標準のR関数にqnormがある。標準正規分布での棄却の臨界値を求めることができる\n",
    "qnorm(0.025) #下側確率0.025となるzの値を求める"
   ]
  },
  {
   "cell_type": "code",
   "execution_count": 2,
   "metadata": {},
   "outputs": [
    {
     "data": {
      "text/html": [
       "1.95996398454005"
      ],
      "text/latex": [
       "1.95996398454005"
      ],
      "text/markdown": [
       "1.95996398454005"
      ],
      "text/plain": [
       "[1] 1.959964"
      ]
     },
     "metadata": {},
     "output_type": "display_data"
    }
   ],
   "source": [
    "qnorm(0.975) #下側確率0.975となるzの値を求める"
   ]
  },
  {
   "cell_type": "code",
   "execution_count": 5,
   "metadata": {},
   "outputs": [
    {
     "data": {
      "text/html": [
       "1.95996398454005"
      ],
      "text/latex": [
       "1.95996398454005"
      ],
      "text/markdown": [
       "1.95996398454005"
      ],
      "text/plain": [
       "[1] 1.959964"
      ]
     },
     "metadata": {},
     "output_type": "display_data"
    }
   ],
   "source": [
    "qnorm(0.025, lower.tail=F) #lower.tail=Fで、上側確率を計算することもできる。"
   ]
  },
  {
   "cell_type": "markdown",
   "metadata": {},
   "source": [
    "上図の1.96にほぼ一致していることが確認できる。"
   ]
  },
  {
   "cell_type": "markdown",
   "metadata": {},
   "source": [
    "## 母集団が正規分布または非正規分布で、母標準偏差σが未知のケース（$n >= 30$）\n",
    "\n",
    "信頼係数95%の信頼区間\n",
    "\n",
    "$$\\bar{X} - 1.96・\\frac{s}{\\sqrt{n}} ~~\\leqq~~  \\mu ~~\\leqq~~ \\bar{X} + 1.96・\\frac{s}{\\sqrt{n}}$$\n",
    "\n",
    "$s$は、標本標準偏差である。<br>\n",
    "$$s = \\sqrt{\\frac{\\sum{(X-\\bar{X})^2}}{n-1}}$$\n",
    "\n",
    "母標準偏差が分からない場合、標本標準偏差を用いて$\\frac{s}{\\sqrt{n}}$の分布も近似的に標準正規分布に近づいていくと考える。<br>\n",
    "$n >= 30$であれば、母集団の分布が非正規分布の場合でも正規分布に近似して考える事ができる。\n",
    "\n",
    "$$- 1.96 ~~\\leqq~~  z ~~\\leqq~~ 1.96$$<br>\n",
    "$$- 1.96 ~~\\leqq~~  \\frac{\\bar{X}- \\mu}{\\frac{s}{\\sqrt{n}}} ~~\\leqq~~ 1.96$$<br>\n",
    "\n",
    "$$- 1.96・\\frac{s}{\\sqrt{n}}  ~~\\leqq~~  \\bar{X}- \\mu ~~\\leqq~~ 1.96・\\frac{s}{\\sqrt{n}} $$<br>\n",
    "\n",
    "\n",
    "$$\\bar{X} - 1.96・\\frac{s}{\\sqrt{n}} ~~\\leqq~~  \\mu ~~\\leqq~~ \\bar{X} + 1.96・\\frac{s}{\\sqrt{n}}$$"
   ]
  },
  {
   "cell_type": "markdown",
   "metadata": {},
   "source": [
    "## 母集団が正規分布で、母標準偏差σが未知のケース（$n < 30$）\n",
    "\n",
    "$n < 30$の場合のような、小標本のケースでは標準正規分布ではなく、$t$分布を用いて区間推定を行うことが多い。<br>\n",
    "$t$分布表から、自由度$n-1($標本個数$-1)$に対応する値を求める。\n",
    "\n",
    "信頼係数95%の信頼区間\n",
    "\n",
    "$$\\bar{X} - t_{0.025}・\\frac{s}{\\sqrt{n}} ~~\\leqq~~  \\mu ~~\\leqq~~ \\bar{X} + t_{0.025}・\\frac{s}{\\sqrt{n}}$$\n"
   ]
  },
  {
   "cell_type": "code",
   "execution_count": 22,
   "metadata": {
    "jupyter": {
     "source_hidden": true
    }
   },
   "outputs": [
    {
     "data": {
      "image/png": "[encoded data removed]",
      "text/plain": [
       "plot without title"
      ]
     },
     "metadata": {
      "image/png": {
       "height": 240,
       "width": 600
      },
      "text/plain": {
       "height": 240,
       "width": 600
      }
     },
     "output_type": "display_data"
    }
   ],
   "source": [
    "old = theme_set(theme_gray(base_family = \"HiraKakuProN-W3\"))\n",
    "\n",
    "# n=4の場合のt分布の例\n",
    "q <- qt(c(0.025,0.975),df=4)\n",
    "ggplot(data = data.frame(X = c(-5, 5)), aes(x = X)) + stat_function(fun = dt, args = list(df = 4))+xlab(\"x\")+\n",
    "geom_ribbon(data=data.frame(X=x<-seq(q[1],q[2],len=101), Y=dt(x,df=4)), aes(x=X, ymin=0, ymax=Y),alpha=0.3, fill =\"red\")+\n",
    "geom_text(x=0, y=0.1, label=\"95%\", color=\"blue\", size=6) +\n",
    "geom_text(x=-2.5, y=0.05, label=\"-t_0.025\", color=\"blue\", size=6) +\n",
    "geom_text(x=2.5, y=0.05, label=\"+t_0.025\", color=\"blue\", size=6)+\n",
    "ggtitle(\"信頼係数95%の信頼区間\")"
   ]
  },
  {
   "cell_type": "markdown",
   "metadata": {},
   "source": [
    "母標準偏差σが分からない場合、\n",
    "統計量$z$\n",
    "$$z=\\frac{\\bar{X}- \\mu}{\\frac{\\sigma}{\\sqrt{n}}}$$\n",
    "は計算できない。<br>\n",
    "代わりに、標本データから求められる不偏分散の平方根である、標準偏差$s$を用いて新たな統計量$t$を作る\n",
    "\n",
    "$$t=\\frac{\\bar{X}- \\mu}{\\frac{s}{\\sqrt{n}}}$$\n",
    "\n",
    "この統計量は、帰無仮説の元で、自由度$n-1$の$t$分布に従う。この性質を用いて検定を行うことができる。"
   ]
  },
  {
   "cell_type": "code",
   "execution_count": 7,
   "metadata": {},
   "outputs": [
    {
     "data": {
      "image/png": "[encoded data removed]",
      "text/plain": [
       "plot without title"
      ]
     },
     "metadata": {
      "image/png": {
       "height": 420,
       "width": 420
      },
      "text/plain": {
       "height": 420,
       "width": 420
      }
     },
     "output_type": "display_data"
    }
   ],
   "source": [
    "#標準関数でt分布を描く\n",
    "curve(dt(x, 8), -3, 3)\n",
    "curve(dt(x, 4), -3, 3, add =TRUE)\n",
    "curve(dt(x, 2), -3, 3, add =TRUE)\n",
    "curve(dt(x, 1), -3, 3, add =TRUE)\n",
    "curve(dnorm(x), -3, 3, add = TRUE, col=\"red\")"
   ]
  },
  {
   "cell_type": "markdown",
   "metadata": {},
   "source": [
    "このように、正規分布に比べると$t$分布は裾が広く、ややつぶれた形になっている。自由度$n-1$が大きくなるにつれて正規分布に近づく"
   ]
  },
  {
   "cell_type": "code",
   "execution_count": 14,
   "metadata": {},
   "outputs": [
    {
     "data": {
      "image/png": "[encoded data removed]",
      "text/plain": [
       "plot without title"
      ]
     },
     "metadata": {
      "image/png": {
       "height": 420,
       "width": 420
      },
      "text/plain": {
       "height": 420,
       "width": 420
      }
     },
     "output_type": "display_data"
    }
   ],
   "source": [
    "curve(dt(x, 100), -3, 3) #試しに自由度を100にするとほぼ重なっていることが分かる\n",
    "curve(dnorm(x), -3, 3, add = TRUE, col=\"red\")"
   ]
  },
  {
   "cell_type": "markdown",
   "metadata": {},
   "source": [
    "## 標本の大きさの決定方法\n",
    "\n",
    "推定の誤差$|\\bar{X}-\\mu|$をある値$e$以下にしたいとき、必要な標本の大きさ$n$を以下で決定することができる。\n",
    "\n",
    "信頼係数95%の区間推定の場合\n",
    "\n",
    "$$n ~~\\geqq~~ \\Biggl(\\frac{1.96・\\sigma}{e}\\Biggr)^2$$ \n",
    "\n",
    "上式は以下のように導出する。<br>\n",
    "母平均$\\mu$、標本平均を$\\bar{X}$、標本の大きさを$n$とすると、信頼係数95%の区間推定の場合\n",
    "\n",
    "\n",
    "$$- 1.96・\\frac{\\sigma}{\\sqrt{n}}  ~~\\leqq~~  \\bar{X}- \\mu ~~\\leqq~~ 1.96・\\frac{\\sigma}{\\sqrt{n}} $$<br>\n",
    "この式を変形し、\n",
    "$$|\\bar{X}- \\mu| ~~\\leqq~~ 1.96・\\frac{\\sigma}{\\sqrt{n}}$$\n",
    "\n",
    "右辺が、指定する「推定の誤差」$e$以下になるように置くと、\n",
    "$$1.96・\\frac{\\sigma}{\\sqrt{n}} ~~\\leqq~~ e$$\n",
    "\n",
    "$$\\sqrt{n} ~~\\geqq~~ \\frac{1.96・\\sigma}{e}$$\n",
    "\n",
    "\n",
    "$$n ~~\\geqq~~ \\Biggl(\\frac{1.96・\\sigma}{e}\\Biggr)^2$$ \n",
    "\n"
   ]
  },
  {
   "cell_type": "markdown",
   "metadata": {},
   "source": [
    "# 母比率の区間推定"
   ]
  },
  {
   "cell_type": "markdown",
   "metadata": {},
   "source": [
    "**標本比率から母比率を推定する。**<br>\n",
    "母平均の区間推定と同様、実際には知ることが難しい母比率（テレビ番組の成人全員の視聴率、成人男性全員の喫煙率、有権者全員の支持率など）を、母集団から無作為に抽出した標本に基づいて、ある確率の元、一定の幅を持たせて推定することをいう。<br>\n",
    "<br>\n",
    "この推定した幅のことを信頼区間、真の母比率が信頼区間に含まれる確率を信頼係数あるいは信頼度という。<br>\n",
    "なお、標本の大きさが小さいときは、正規分布による近似ができないので、後述の$F$分布を用いて母比率の区間推定を行う。\n",
    "\n",
    "\n",
    "## （補足）ベルヌーイ分布\n",
    ">「ベルヌーイ分布とは、「成功か失敗か」「表か裏か」「勝ちか負けか」のように２種類のみの結果しか得られないような実験、試行（ベルヌーイ試行）の結果を0と1で表した分布を指します。<br>\n",
    "1である確率がpであるとき0である確率は1-pとなる、非常にシンプルな確率分布です。\n",
    "\n",
    "このように、2つの状態しか現れない事象をモデル化したのが「ベルヌーイ分布」と呼ばれる。\n",
    "\n",
    "各$X_{i}(i = 1,2,3・・・n)$はベルヌーイ分布に従う（平均：$p$、分散：$p(1-p)$）<br><br>\n",
    "⇒$n$が十分に大きいとき、\n",
    "$$\\bar{X}$$"
   ]
  },
  {
   "cell_type": "markdown",
   "metadata": {},
   "source": [
    "## 信頼区間\n",
    "\n",
    "信頼係数95%の信頼区間\n",
    "\n",
    "$$\\hat{p} - 1.96 \\sqrt{ \\frac{\\hat{p}(1-\\hat{p})}{n}} ~~\\leqq~~ p ~~\\leqq~~  \\hat{p} + 1.96 \\sqrt{ \\frac{\\hat{p}(1-\\hat{p})}{n}}$$\n",
    "\n",
    "$p$は母比率、$\\hat{p}$は標本比率を表す。"
   ]
  },
  {
   "cell_type": "markdown",
   "metadata": {},
   "source": [
    "上式の導出は以下のように求まる。<br>\n",
    "ある事象に対し、$Yes(1)$ と $No(0)$の2項分布の母集団があり、$Yes(1)$の割合を母比率$p$とする。<br>\n",
    "今この母集団から、無作為に抽出した標本から、標本比率$\\hat{p}$を求めると、$\\hat{p}$は$n$が大きくなるにつれて、近似的に正規分布$N\\biggl(p, ~~\\frac{p(1-p)}{n}\\biggr)$に従う。<br>\n",
    "    \n",
    "（二項分布の期待値は$np$、分散は$np(1-p)$。一般に、$n > 30, ~ n(1-p) > 5, ~ np > 5$のとき、二項分布は正規分布で近似可能。）<br><br>\n",
    "よって、$\\hat{p}$を標準化した、\n",
    "\n",
    "$$z=\\frac{\\hat{p}-p}{\\sqrt{\\frac{p(1-p)}{n}}}$$\n",
    "\n",
    "の分布も、近似的に標準正規分布に従う。<br>\n",
    "母平均の区間推定時と同様、95%の信頼区間は、\n",
    "\n",
    "$$ -1.96 ~~\\leqq~~ z ~~\\leqq~~ 1.96$$<br>\n",
    "$$ -1.96 ~~\\leqq~~ \\frac{\\hat{p}-p}{\\sqrt{\\frac{p(1-p)}{n}}} ~~\\leqq~~ 1.96$$<br>\n",
    "$$\\hat{p} - 1.96 \\sqrt{ \\frac{{p}(1-p)}{n}} ~~\\leqq~~ p ~~\\leqq~~  \\hat{p} + 1.96 \\sqrt{ \\frac{p(1-p)}{n}}$$\n",
    "\n",
    "ここで、$n$が十分に大きいので、$p~\\fallingdotseq~\\hat{p}$とみなし$p$を$\\hat{p}$で代用すると、冒頭の式が得られる。"
   ]
  },
  {
   "cell_type": "markdown",
   "metadata": {},
   "source": [
    "## 標本の大きさの決定方法"
   ]
  },
  {
   "cell_type": "markdown",
   "metadata": {},
   "source": [
    "推定の誤差$|\\hat{p}-p|$をある値$e$以下に抑えたいとき、必要な標本の大きさ$n$は、以下の公式で求まる。\n",
    "\n",
    "信頼係数95%の場合、\n",
    "\n",
    "$$n ~~\\geqq~~ \\Biggl(\\frac{1.96}{e}\\Biggr)^2\\hat{p}(1-\\hat{p})$$  "
   ]
  },
  {
   "cell_type": "markdown",
   "metadata": {},
   "source": [
    "上式は以下のように導出できる。<br>\n",
    "\n",
    "$$\\hat{p} - 1.96 \\sqrt{ \\frac{\\hat{p}(1-\\hat{p})}{n}} ~~\\leqq~~ p ~~\\leqq~~  \\hat{p} + 1.96 \\sqrt{ \\frac{\\hat{p}(1-\\hat{p})}{n}}$$\n",
    "\n",
    "を変形して以下を得る。\n",
    "\n",
    "$$|\\hat{p}-p| ~~\\leqq~~  1.96 \\sqrt{ \\frac{\\hat{p}(1-\\hat{p})}{n}}$$\n",
    "\n",
    "右辺が推定の誤差$e$以下になるように置くと、\n",
    "\n",
    "$$1.96 \\sqrt{ \\frac{\\hat{p}(1-\\hat{p})}{n}} ~~\\leqq~~ e$$\n",
    "\n",
    "$$\\frac{\\hat{p}(1-\\hat{p})}{n} ~~\\leqq~~ \\Biggl(\\frac{e}{1.96}\\Biggr)^2$$\n",
    "\n",
    "$$n ~~\\geqq~~ \\Biggl(\\frac{1.96}{e}\\Biggr)^2\\hat{p}(1-\\hat{p})$$  \n"
   ]
  },
  {
   "cell_type": "markdown",
   "metadata": {},
   "source": [
    "この時、標本比率$\\hat{p}$は分析者が設定する必要があるが、情報が得られず、まったく見当もつかないときは$\\hat{p}(1-\\hat{p})$が最大となる値$\\frac{1}{4}$をそれぞれの公式に代入して、$n$を求める。\n",
    "\n",
    "$$\\hat{p}(1-\\hat{p})=\\frac{1}{4}-\\Biggl(\\hat{p}-\\frac{1}{2}\\Biggr)^2$$\n",
    "より、$\\hat{p}(1-\\hat{p})$の最大値は1/4。ゆえに、"
   ]
  },
  {
   "cell_type": "markdown",
   "metadata": {},
   "source": [
    "$$n ~~\\geqq~~ \\Biggl(\\frac{1.96}{e}\\Biggr)^2・\\frac{1}{4}$$  "
   ]
  },
  {
   "cell_type": "markdown",
   "metadata": {
    "slideshow": {
     "slide_type": "subslide"
    }
   },
   "source": [
    "# 母平均の検定\n",
    "実際には知ることが難しい、母集団の平均値（母平均）$\\mu$が、比較する$\\mu_{0}$と等しいかどうか、あるいは大きいか、小さいかを調べるために行うテストの事。"
   ]
  },
  {
   "cell_type": "markdown",
   "metadata": {},
   "source": [
    "## 母標準偏差σが既知のケース\n",
    "母集団が正規分布の場合、標本の大きさに関係なく以下の検定が使える。<br>非正規分布の場合でも$n\\geqq30$であれば中心極限定理によって正規分布に近似させるとこの手法で問題ない。"
   ]
  },
  {
   "cell_type": "markdown",
   "metadata": {},
   "source": [
    "＜順序１＞<br>\n",
    "帰無仮説$H_{0}$と対立仮説$H_{1}$を立てる。$\\mu$は母平均、$\\mu_{0}$は比較する値。<br>\n",
    "&emsp;&emsp;&emsp;&emsp;帰無仮説 $H_{0}:\\mu=\\mu_{0}$（母平均$\\mu$が$\\mu_{0}$と等しいという仮説）<br>\n",
    "&emsp;&emsp;&emsp;&emsp;対立仮説 $H_{1}:\\mu\\neq\\mu_{0}$（母平均$\\mu$が$\\mu_{0}$と等しくないという仮説 : 両側検定）<br>\n",
    "&emsp;&emsp;&emsp;&emsp;&emsp;&emsp;&emsp;&emsp;&emsp;&emsp;&emsp;$\\mu>\\mu_{0}$（母平均$\\mu$が$\\mu_{0}$より大きいという仮説 : 右片側検定）<br>\n",
    "&emsp;&emsp;&emsp;&emsp;&emsp;&emsp;&emsp;&emsp;&emsp;&emsp;&emsp;$\\mu>\\mu_{0}$（母平均$\\mu$が$\\mu_{0}$より小さいという仮説 : 左片側検定）<br>\n",
    "&emsp;&emsp;&emsp;&emsp;&emsp;&emsp;&emsp;&emsp;&emsp;&emsp;&emsp;いずれかを選択する。"
   ]
  },
  {
   "cell_type": "markdown",
   "metadata": {},
   "source": [
    "|<div style=\"text-align: center;\">仮説|<div style=\"text-align: center;\">説明|\n",
    "|---|---|\n",
    "| <div style=\"text-align: center;\">帰無仮説 | <div style=\"text-align: left;\">本来主張したい事柄を証明するために、否定されることを前提に設定される仮説。<br>確率分布の90-99%内に入らない区間に設定して考える事が多い。|\n",
    "| <div style=\"text-align: center;\">対立仮説 | <div style=\"text-align: left;\">帰無仮説を否定することによって主張される仮説 |"
   ]
  },
  {
   "cell_type": "markdown",
   "metadata": {},
   "source": [
    "＜順序２＞<br>\n",
    "調査結果（もしくは実験結果）を整理する。<br>\n",
    "&emsp;&emsp;&emsp;&emsp;①標本の大きさ　$n$<br>\n",
    "&emsp;&emsp;&emsp;&emsp;②標本平均　$\\bar{X}$<br>\n",
    "&emsp;&emsp;&emsp;&emsp;③母標準偏差　$\\sigma$（既知）<br>\n",
    "&emsp;&emsp;&emsp;&emsp;④比較する値　$\\mu_{0}$<br>\n",
    "\n",
    "ここで、標本平均$\\bar{X}$の分布は帰無仮説$H_{0}$が正しいとすれば、正規分布$N( \\mu, \\frac{\\sigma^2}{n})$に従う。    "
   ]
  },
  {
   "cell_type": "markdown",
   "metadata": {},
   "source": [
    "＜順序３＞<br>\n",
    "統計検定量$z$を計算する。<br>\n",
    "$$z=\\frac{\\bar{X}-\\mu_{0}}{\\frac{\\sigma}{\\sqrt{n}}}$$<br>\n",
    "この統計量$z$は、「帰無仮説が正しいとすれば」標準正規分布$N(0, 1)$に従う。"
   ]
  },
  {
   "cell_type": "markdown",
   "metadata": {},
   "source": [
    "＜順序４＞<br>\n",
    "有意水準$\\alpha$(帰無仮説が正しいにも関わらず棄却してしまう確率。通常5%か1%)を決め、臨界値（境界地）を求める。<br>\n",
    "その後、順序3で求めた$z_{0}$（$z$を実際に計算した値で実現値という）が、臨界値を境目として、棄却域に入るか、採択域に入るかを判定する。<br>\n",
    "<br>\n",
    "この時、第1種の誤りを犯す確率(有意水準)を$\\alpha$、第2種の誤りを犯す確率を$\\beta$、検出力を$\\gamma$（$\\gamma=1-\\beta$）とすると、以下のような図示イメージとなる。<br>\n",
    "下図からわかるように、$\\alpha$を小さくすれば$\\beta$が大きくなる。2種類の誤りを共に小さくすることはできない。<br>\n",
    "なお、帰無仮説$H_{0}$が誤っているとき、この$H_{0}$を棄却する確率のことを検出力という。\n"
   ]
  },
  {
   "cell_type": "markdown",
   "metadata": {},
   "source": [
    "|<div style=\"text-align: center;\">語句|<div style=\"text-align: center;\">内容|\n",
    "|---|---|\n",
    "|第1種の誤り|<div style=\"text-align: left;\">「帰無仮説が正しい」にも関わらず、それを棄却する誤り。<br>有意水準αでは、確率αで誤判断すると言える確率そのもの。</div>|\n",
    "|第2種の誤り|<div style=\"text-align: left;\">「帰無仮説が誤っている」にも関わらず、それを棄却できないことによる誤り。<br>対立仮説の分布が、帰無仮説の棄却域に入らない確率。</div>|\n",
    "|検出力|<div style=\"text-align: left;\">第2種の過誤の確率を1から引いたもの|"
   ]
  },
  {
   "cell_type": "code",
   "execution_count": 17,
   "metadata": {
    "jupyter": {
     "source_hidden": true
    }
   },
   "outputs": [],
   "source": [
    "library(ggplot2)\n",
    "# seq(a,b,n):下限a、上限b、分割数nの等差数列を作る。\n",
    "x1 <- seq(-4, 4, length=2000)\n",
    "x2 <- seq(-2, 8, length=2000)\n",
    "# mean:平均値、sd：標準偏差(sd = sqrt(sigma^2))\n",
    "fx1 <- dnorm(x=x1,mean=0,sd = 1)\n",
    "fx2 <- dnorm(x=x2,mean=3,sd = 1)\n",
    "data1 <-data.frame(x=x1,y=fx1)\n",
    "data2 <-data.frame(x=x2,y=fx2)"
   ]
  },
  {
   "cell_type": "code",
   "execution_count": 20,
   "metadata": {
    "jupyter": {
     "source_hidden": true
    }
   },
   "outputs": [
    {
     "data": {
      "image/png": "[encoded data removed]",
      "text/plain": [
       "plot without title"
      ]
     },
     "metadata": {
      "image/png": {
       "height": 300,
       "width": 600
      },
      "text/plain": {
       "height": 300,
       "width": 600
      }
     },
     "output_type": "display_data"
    }
   ],
   "source": [
    "options(repr.plot.width=10, repr.plot.height=5)\n",
    "options(warn=-1)\n",
    "ggplot(data1, aes(x=x,y=y)) + \n",
    "geom_line() +\n",
    "geom_area(data=data2[data2$x <= 6 & data2$x >= 1.96,], fill=\"green\", alpha = 2/10) +\n",
    "geom_text(x=3, y=0.15, label=\"γ\", color=\"blue\", size=6)+\n",
    "geom_area(data=data1[data1$x >= 1.96 & data1$x <= 4,], fill=\"red\", alpha = 4/10) +\n",
    "geom_text(x=2.15, y=0.02, label=\"α\", color=\"blue\", size=6)+\n",
    "layer(\n",
    "    data=data2, \n",
    "    mapping=aes(x=x, y=y), \n",
    "    geom=\"line\", \n",
    "    stat=\"identity\", \n",
    "    position=\"identity\") +\n",
    "geom_area(data=data2[data2$x <= 1.96 & data2$x >= -2,], fill=\"blue\", alpha = 2/10) +\n",
    "geom_text(x=1.3, y=0.02, label=\"β\", color=\"blue\", size=6)+\n",
    "geom_vline(xintercept=1.96,linetype=\"dashed\",colour=\"red\") +\n",
    "theme_gray (base_family = \"HiraKakuPro-W3\")+\n",
    "ggtitle(\"検定の図示イメージ\")\n"
   ]
  },
  {
   "cell_type": "markdown",
   "metadata": {},
   "source": [
    "＜例題＞<br>\n",
    "過去データの蓄積から心理学テストの得点は平均12、分散10の正規分布に従う事が知られている。「指導法データ」の20人の心理学テスト得点は、この母集団からの無作為標本と考えてよいでしょうか。\n"
   ]
  },
  {
   "cell_type": "code",
   "execution_count": 17,
   "metadata": {},
   "outputs": [
    {
     "data": {
      "text/html": [
       "<style>\n",
       ".list-inline {list-style: none; margin:0; padding: 0}\n",
       ".list-inline>li {display: inline-block}\n",
       ".list-inline>li:not(:last-child)::after {content: \"\\00b7\"; padding: 0 .5ex}\n",
       "</style>\n",
       "<ol class=list-inline><li>13</li><li>14</li><li>7</li><li>12</li><li>10</li><li>6</li><li>8</li><li>15</li><li>4</li><li>14</li><li>9</li><li>6</li><li>10</li><li>12</li><li>5</li><li>12</li><li>8</li><li>8</li><li>12</li><li>15</li></ol>\n"
      ],
      "text/latex": [
       "\\begin{enumerate*}\n",
       "\\item 13\n",
       "\\item 14\n",
       "\\item 7\n",
       "\\item 12\n",
       "\\item 10\n",
       "\\item 6\n",
       "\\item 8\n",
       "\\item 15\n",
       "\\item 4\n",
       "\\item 14\n",
       "\\item 9\n",
       "\\item 6\n",
       "\\item 10\n",
       "\\item 12\n",
       "\\item 5\n",
       "\\item 12\n",
       "\\item 8\n",
       "\\item 8\n",
       "\\item 12\n",
       "\\item 15\n",
       "\\end{enumerate*}\n"
      ],
      "text/markdown": [
       "1. 13\n",
       "2. 14\n",
       "3. 7\n",
       "4. 12\n",
       "5. 10\n",
       "6. 6\n",
       "7. 8\n",
       "8. 15\n",
       "9. 4\n",
       "10. 14\n",
       "11. 9\n",
       "12. 6\n",
       "13. 10\n",
       "14. 12\n",
       "15. 5\n",
       "16. 12\n",
       "17. 8\n",
       "18. 8\n",
       "19. 12\n",
       "20. 15\n",
       "\n",
       "\n"
      ],
      "text/plain": [
       " [1] 13 14  7 12 10  6  8 15  4 14  9  6 10 12  5 12  8  8 12 15"
      ]
     },
     "metadata": {},
     "output_type": "display_data"
    }
   ],
   "source": [
    "shinri <- c(13, 14, 7, 12, 10, 6, 8, 15, 4, 14, 9, 6, 10, 12, 5, 12, 8, 8, 12, 15)\n",
    "shinri"
   ]
  },
  {
   "cell_type": "markdown",
   "metadata": {},
   "source": [
    "帰無仮説：$\\mu = 12$<br>\n",
    "対立仮説：$\\mu \\neq 12$"
   ]
  },
  {
   "cell_type": "markdown",
   "metadata": {},
   "source": [
    "統計量z\n",
    "$$z=\\frac{\\bar{X}- \\mu}{\\frac{\\sigma}{\\sqrt{n}}}$$\n",
    "\n",
    "母集団分布はX~N(12,10)より、"
   ]
  },
  {
   "cell_type": "code",
   "execution_count": null,
   "metadata": {},
   "outputs": [],
   "source": [
    "X <- mean(shinri)\n",
    "mu <- 12\n",
    "sigma <- sqrt(10)\n",
    "n <- length(shinri)\n",
    "\n",
    "z <- (X-mu)/(sigma/sqrt(n))"
   ]
  },
  {
   "cell_type": "code",
   "execution_count": 19,
   "metadata": {},
   "outputs": [
    {
     "data": {
      "text/html": [
       "-2.82842712474619"
      ],
      "text/latex": [
       "-2.82842712474619"
      ],
      "text/markdown": [
       "-2.82842712474619"
      ],
      "text/plain": [
       "[1] -2.828427"
      ]
     },
     "metadata": {},
     "output_type": "display_data"
    }
   ],
   "source": [
    "z"
   ]
  },
  {
   "cell_type": "code",
   "execution_count": 28,
   "metadata": {},
   "outputs": [
    {
     "data": {
      "text/html": [
       "-1.95996398454005"
      ],
      "text/latex": [
       "-1.95996398454005"
      ],
      "text/markdown": [
       "-1.95996398454005"
      ],
      "text/plain": [
       "[1] -1.959964"
      ]
     },
     "metadata": {},
     "output_type": "display_data"
    },
    {
     "data": {
      "text/html": [
       "1.95996398454005"
      ],
      "text/latex": [
       "1.95996398454005"
      ],
      "text/markdown": [
       "1.95996398454005"
      ],
      "text/plain": [
       "[1] 1.959964"
      ]
     },
     "metadata": {},
     "output_type": "display_data"
    }
   ],
   "source": [
    "#標準正規分布で下側確率0.025となるzの値\n",
    "qnorm(0.025)\n",
    "#標準正規分布で下側確率0.975となるzの値\n",
    "qnorm(0.975)"
   ]
  },
  {
   "cell_type": "markdown",
   "metadata": {},
   "source": [
    "以上より、棄却域は$z < -1.96, t > 1.96$となる。<br>\n",
    "今回の$x$の実現値は$z = -2.828$より、棄却域に入り、帰無仮説は棄却される。つまり5%の水準で有意であったと言える。<br>\n",
    "例題の問に答えるなら「指導法データ20人の心理学テスト得点は平均12、分散10の正規母集団からの無作為標本とは言えない」と言える。"
   ]
  },
  {
   "cell_type": "code",
   "execution_count": 29,
   "metadata": {},
   "outputs": [
    {
     "data": {
      "text/html": [
       "0.00468398065364494"
      ],
      "text/latex": [
       "0.00468398065364494"
      ],
      "text/markdown": [
       "0.00468398065364494"
      ],
      "text/plain": [
       "[1] 0.004683981"
      ]
     },
     "metadata": {},
     "output_type": "display_data"
    }
   ],
   "source": [
    "#p値を直接求める場合、pnorm関数を用いる。pnorm(実現値)で求まる。両側検定なので2倍する。\n",
    "2*pnorm(-2.828)"
   ]
  },
  {
   "cell_type": "markdown",
   "metadata": {},
   "source": [
    "## 母標準偏差σが未知のケース\n",
    "母標準偏差が未知の場合については以下のような順序で検定を行う。なお、母集団が非正規分布の場合で、歪みが大きい場合は$n\\geqq50~to~100$程度が望ましい。標準偏差に母標準偏差でなく標本標準偏差を用いる点が違うだけで、考え方は前項と同じ。<br>\n",
    "一般に、母標準偏差が未知のケースでは$t$分布による検定を行うことが多い。(nが十分に大きければ正規分布でも良いが)"
   ]
  },
  {
   "cell_type": "markdown",
   "metadata": {},
   "source": [
    "＜順序１＞<br>\n",
    "帰無仮説$H_{0}$と対立仮説$H_{1}$を立てる。$\\mu$は母平均、$\\mu_{0}$は比較する値。<br>\n",
    "&emsp;&emsp;&emsp;&emsp;帰無仮説 $H_{0}:\\mu=\\mu_{0}$（母平均$\\mu$が$\\mu_{0}$と等しいという仮説）<br>\n",
    "&emsp;&emsp;&emsp;&emsp;対立仮説 $H_{1}:\\mu\\neq\\mu_{0}$（母平均$\\mu$が$\\mu_{0}$と等しくないという仮説 : 両側検定）<br>\n",
    "&emsp;&emsp;&emsp;&emsp;&emsp;&emsp;&emsp;&emsp;&emsp;&emsp;&emsp;$\\mu>\\mu_{0}$（母平均$\\mu$が$\\mu_{0}$より大きいという仮説 : 右片側検定）<br>\n",
    "&emsp;&emsp;&emsp;&emsp;&emsp;&emsp;&emsp;&emsp;&emsp;&emsp;&emsp;$\\mu>\\mu_{0}$（母平均$\\mu$が$\\mu_{0}$より小さいという仮説 : 左片側検定）<br>\n",
    "&emsp;&emsp;&emsp;&emsp;&emsp;&emsp;&emsp;&emsp;&emsp;&emsp;&emsp;いずれかを選択する。"
   ]
  },
  {
   "cell_type": "markdown",
   "metadata": {},
   "source": [
    "＜順序２＞<br>\n",
    "調査結果（もしくは実験結果）を整理する。<br>\n",
    "&emsp;&emsp;&emsp;&emsp;①標本の大きさ　$n$<br>\n",
    "&emsp;&emsp;&emsp;&emsp;②標本平均　$\\bar{X}$<br>\n",
    "&emsp;&emsp;&emsp;&emsp;③**標本**標準偏差　$s$<br>\n",
    "&emsp;&emsp;&emsp;&emsp;④比較する値　$\\mu_{0}$<br>\n",
    "\n",
    "ここで、標本平均$\\bar{X}$の分布は帰無仮説$H_{0}$が正しいとすれば、大標本なので、近似的に正規分布$N( \\mu, \\frac{s^2}{n})$に従う。    "
   ]
  },
  {
   "cell_type": "markdown",
   "metadata": {},
   "source": [
    "＜順序３＞<br>\n",
    "統計検定量$t$を計算する。<br>\n",
    "$$t=\\frac{\\bar{X}-\\mu_{0}}{\\frac{s}{\\sqrt{n}}}$$<br>\n",
    "この統計量$t$は、「帰無仮説が正しいとすれば」自由度$n-1$の$t$分布に従う。"
   ]
  },
  {
   "cell_type": "markdown",
   "metadata": {},
   "source": [
    "＜順序４＞<br>\n",
    "有意水準$\\alpha$(帰無仮説が正しいにも関わらず棄却してしまう確率。通常5%か1%)を決め、臨界値（境界地）を求める。<br>\n",
    "その後、順序3で求めた$t_{0}$（$t$を実際に計算した値で実現値という）が、臨界値を境目として、棄却域に入るか、採択域に入るかを判定する。"
   ]
  },
  {
   "cell_type": "markdown",
   "metadata": {},
   "source": [
    "＜例題＞<br>\n",
    "過去データの蓄積から心理学テストの得点は平均12の正規分布に従う事が知られている。「指導法データ」の20人の心理学テスト得点は、この母集団からの無作為標本と考えてよいでしょうか。\n",
    "(先ほどの例題と比較すると、母分散が分かっていない点が違う)\n"
   ]
  },
  {
   "cell_type": "markdown",
   "metadata": {},
   "source": [
    "帰無仮説：$\\mu = 12$<br>\n",
    "対立仮説：$\\mu \\neq 12$\n",
    "\n",
    "統計量$t$\n",
    "\n",
    "$$t=\\frac{\\bar{X}- \\mu}{\\frac{s}{\\sqrt{n}}}$$\n",
    "\n"
   ]
  },
  {
   "cell_type": "markdown",
   "metadata": {},
   "source": [
    "有意水準を両側検定α=0.05とする。（有意水準5%）"
   ]
  },
  {
   "cell_type": "code",
   "execution_count": 20,
   "metadata": {},
   "outputs": [],
   "source": [
    "X <- mean(shinri)\n",
    "mu <- 12\n",
    "s <- sd(shinri)\n",
    "n <- length(shinri)\n",
    "\n",
    "t <- X"
   ]
  },
  {
   "cell_type": "code",
   "execution_count": 22,
   "metadata": {},
   "outputs": [
    {
     "data": {
      "text/html": [
       "-2.61664801737774"
      ],
      "text/latex": [
       "-2.61664801737774"
      ],
      "text/markdown": [
       "-2.61664801737774"
      ],
      "text/plain": [
       "[1] -2.616648"
      ]
     },
     "metadata": {},
     "output_type": "display_data"
    }
   ],
   "source": [
    "t <- (X-mu)/(s/sqrt(n))\n",
    "t"
   ]
  },
  {
   "cell_type": "code",
   "execution_count": 24,
   "metadata": {},
   "outputs": [
    {
     "data": {
      "text/html": [
       "-2.09302405440831"
      ],
      "text/latex": [
       "-2.09302405440831"
      ],
      "text/markdown": [
       "-2.09302405440831"
      ],
      "text/plain": [
       "[1] -2.093024"
      ]
     },
     "metadata": {},
     "output_type": "display_data"
    },
    {
     "data": {
      "text/html": [
       "2.09302405440831"
      ],
      "text/latex": [
       "2.09302405440831"
      ],
      "text/markdown": [
       "2.09302405440831"
      ],
      "text/plain": [
       "[1] 2.093024"
      ]
     },
     "metadata": {},
     "output_type": "display_data"
    }
   ],
   "source": [
    "#自由度n-1(19)のt分布で下側確率0.025となるtの値\n",
    "qt(0.025, 19)\n",
    "#自由度n-1(19)のt分布で下側確率0.975となるtの値\n",
    "qt(0.975, 19)"
   ]
  },
  {
   "cell_type": "markdown",
   "metadata": {},
   "source": [
    "以上より、棄却域は$t < -2.093, t > 2.093$となる。<br>\n",
    "今回の$t$の実現値は$t = -2.617$より、棄却域に入り、帰無仮説は棄却される。つまり5%の水準で有意であったと言える。<br>\n",
    "例題の問に答えるなら「指導法データ20人の心理学テスト得点は平均12の正規母集団からの無作為標本とは言えない」と言える。"
   ]
  },
  {
   "cell_type": "code",
   "execution_count": 30,
   "metadata": {},
   "outputs": [
    {
     "data": {
      "text/html": [
       "0.0169709202695633"
      ],
      "text/latex": [
       "0.0169709202695633"
      ],
      "text/markdown": [
       "0.0169709202695633"
      ],
      "text/plain": [
       "[1] 0.01697092"
      ]
     },
     "metadata": {},
     "output_type": "display_data"
    }
   ],
   "source": [
    "#p値を直接求める場合、pt関数を用いる。pt(実現値,自由度)で求まる。両側検定なので2倍する。\n",
    "2*pt(-2.61664801737774, 19)"
   ]
  },
  {
   "cell_type": "markdown",
   "metadata": {},
   "source": [
    "ちなみにRには$t$検定を直接行う関数が用意されており、t.test()で検定を行うことができる。"
   ]
  },
  {
   "cell_type": "code",
   "execution_count": 31,
   "metadata": {
    "scrolled": true
   },
   "outputs": [
    {
     "data": {
      "text/plain": [
       "\n",
       "\tOne Sample t-test\n",
       "\n",
       "data:  shinri\n",
       "t = -2.6166, df = 19, p-value = 0.01697\n",
       "alternative hypothesis: true mean is not equal to 12\n",
       "95 percent confidence interval:\n",
       "  8.400225 11.599775\n",
       "sample estimates:\n",
       "mean of x \n",
       "       10 \n"
      ]
     },
     "metadata": {},
     "output_type": "display_data"
    }
   ],
   "source": [
    "t.test(shinri, mu=12)"
   ]
  },
  {
   "cell_type": "code",
   "execution_count": 32,
   "metadata": {
    "scrolled": true
   },
   "outputs": [
    {
     "data": {
      "text/plain": [
       "\n",
       "\tOne Sample t-test\n",
       "\n",
       "data:  shinri\n",
       "t = -2.6166, df = 19, p-value = 0.01697\n",
       "alternative hypothesis: true mean is not equal to 12\n",
       "90 percent confidence interval:\n",
       "  8.67836 11.32164\n",
       "sample estimates:\n",
       "mean of x \n",
       "       10 \n"
      ]
     },
     "metadata": {},
     "output_type": "display_data"
    }
   ],
   "source": [
    "#defaultでは信頼区間95％の設定になっている。区間をいじくるにはconf.level引数を変える。下は90%\n",
    "t.test(shinri, mu = 12, conf.level = 0.9)"
   ]
  },
  {
   "cell_type": "markdown",
   "metadata": {},
   "source": [
    "# 相関係数の検定（無相関検定）\n"
   ]
  },
  {
   "cell_type": "markdown",
   "metadata": {},
   "source": [
    ">[参考ページ](https://liginc.co.jp/305968)<br>\n",
    "無相関検定とは「ある標本の相関係数を求めた際に、その相関係数に意味があるのかどうかを決定すること」を指します。<br>\n",
    "標本から得られた相関係数が大きいからといって、安心してはいけません。<br>\n",
    "そもそも、それが母集団で成立するかは分からないからです。不確実性が非常に高いですね。<br>\n",
    "無相関検定をおこなう際に、覚えておくべき用語があります。それは「帰無仮説」という用語です。<br>\n",
    "帰無仮説とは、母集団の相関係数が0（ゼロ）であると過程することです。<br>\n",
    "もし、この帰無仮説が否定されれば、その反対である「母集団の相関係数が0（ゼロ）ではない」ということが受け入れられることになります。"
   ]
  },
  {
   "cell_type": "markdown",
   "metadata": {},
   "source": [
    "この検定では「母集団において相関が0である」と設定するため、無相関検定とも呼ばれる。<br>\n",
    "母相関に関して検定を行うときには、標本相関係数$r$を次の式に寄り変換する。\n",
    "\n",
    "$$t = \\frac{r \\sqrt{n-2}}{\\sqrt{1-r^2}}$$"
   ]
  },
  {
   "cell_type": "markdown",
   "metadata": {},
   "source": [
    "こうして変換された$t$は、帰無仮説の元で、自由度$n-2$の$t$分布に従うことが分かっている。このことを利用すれば、$t$分布を用いて相関係数の検定を行うことができる。"
   ]
  },
  {
   "cell_type": "markdown",
   "metadata": {},
   "source": [
    "＜例題＞<br>\n",
    "指導法データについて、統計テスト１の得点と統計テスト２の得点の相関係数の検定を行ってください。有意水準5%の両側検定とします。"
   ]
  },
  {
   "cell_type": "code",
   "execution_count": 1,
   "metadata": {},
   "outputs": [
    {
     "data": {
      "text/html": [
       "<style>\n",
       ".list-inline {list-style: none; margin:0; padding: 0}\n",
       ".list-inline>li {display: inline-block}\n",
       ".list-inline>li:not(:last-child)::after {content: \"\\00b7\"; padding: 0 .5ex}\n",
       "</style>\n",
       "<ol class=list-inline><li>6</li><li>10</li><li>6</li><li>10</li><li>5</li><li>3</li><li>5</li><li>9</li><li>3</li><li>3</li><li>11</li><li>6</li><li>11</li><li>9</li><li>7</li><li>5</li><li>8</li><li>7</li><li>7</li><li>9</li></ol>\n"
      ],
      "text/latex": [
       "\\begin{enumerate*}\n",
       "\\item 6\n",
       "\\item 10\n",
       "\\item 6\n",
       "\\item 10\n",
       "\\item 5\n",
       "\\item 3\n",
       "\\item 5\n",
       "\\item 9\n",
       "\\item 3\n",
       "\\item 3\n",
       "\\item 11\n",
       "\\item 6\n",
       "\\item 11\n",
       "\\item 9\n",
       "\\item 7\n",
       "\\item 5\n",
       "\\item 8\n",
       "\\item 7\n",
       "\\item 7\n",
       "\\item 9\n",
       "\\end{enumerate*}\n"
      ],
      "text/markdown": [
       "1. 6\n",
       "2. 10\n",
       "3. 6\n",
       "4. 10\n",
       "5. 5\n",
       "6. 3\n",
       "7. 5\n",
       "8. 9\n",
       "9. 3\n",
       "10. 3\n",
       "11. 11\n",
       "12. 6\n",
       "13. 11\n",
       "14. 9\n",
       "15. 7\n",
       "16. 5\n",
       "17. 8\n",
       "18. 7\n",
       "19. 7\n",
       "20. 9\n",
       "\n",
       "\n"
      ],
      "text/plain": [
       " [1]  6 10  6 10  5  3  5  9  3  3 11  6 11  9  7  5  8  7  7  9"
      ]
     },
     "metadata": {},
     "output_type": "display_data"
    },
    {
     "data": {
      "text/html": [
       "<style>\n",
       ".list-inline {list-style: none; margin:0; padding: 0}\n",
       ".list-inline>li {display: inline-block}\n",
       ".list-inline>li:not(:last-child)::after {content: \"\\00b7\"; padding: 0 .5ex}\n",
       "</style>\n",
       "<ol class=list-inline><li>10</li><li>13</li><li>8</li><li>15</li><li>8</li><li>6</li><li>9</li><li>10</li><li>7</li><li>3</li><li>18</li><li>14</li><li>18</li><li>11</li><li>12</li><li>5</li><li>7</li><li>12</li><li>7</li><li>7</li></ol>\n"
      ],
      "text/latex": [
       "\\begin{enumerate*}\n",
       "\\item 10\n",
       "\\item 13\n",
       "\\item 8\n",
       "\\item 15\n",
       "\\item 8\n",
       "\\item 6\n",
       "\\item 9\n",
       "\\item 10\n",
       "\\item 7\n",
       "\\item 3\n",
       "\\item 18\n",
       "\\item 14\n",
       "\\item 18\n",
       "\\item 11\n",
       "\\item 12\n",
       "\\item 5\n",
       "\\item 7\n",
       "\\item 12\n",
       "\\item 7\n",
       "\\item 7\n",
       "\\end{enumerate*}\n"
      ],
      "text/markdown": [
       "1. 10\n",
       "2. 13\n",
       "3. 8\n",
       "4. 15\n",
       "5. 8\n",
       "6. 6\n",
       "7. 9\n",
       "8. 10\n",
       "9. 7\n",
       "10. 3\n",
       "11. 18\n",
       "12. 14\n",
       "13. 18\n",
       "14. 11\n",
       "15. 12\n",
       "16. 5\n",
       "17. 7\n",
       "18. 12\n",
       "19. 7\n",
       "20. 7\n",
       "\n",
       "\n"
      ],
      "text/plain": [
       " [1] 10 13  8 15  8  6  9 10  7  3 18 14 18 11 12  5  7 12  7  7"
      ]
     },
     "metadata": {},
     "output_type": "display_data"
    }
   ],
   "source": [
    "test1 <- c(6,10,6,10,5,3,5,9,3,3,11,6,11,9,7,5,8,7,7,9)\n",
    "test2 <- c(10,13,8,15,8,6,9,10,7,3,18,14,18,11,12,5,7,12,7,7)\n",
    "\n",
    "test1\n",
    "test2"
   ]
  },
  {
   "cell_type": "markdown",
   "metadata": {},
   "source": [
    "帰無仮説(母相関は0である)：$\\rho = 0$<br>\n",
    "対立仮説(母相関は0でない)：$\\rho \\neq 0$\n",
    "\n",
    "対立仮説より、両側検定となる。"
   ]
  },
  {
   "cell_type": "code",
   "execution_count": 7,
   "metadata": {},
   "outputs": [
    {
     "data": {
      "text/html": [
       "0.749658964824245"
      ],
      "text/latex": [
       "0.749658964824245"
      ],
      "text/markdown": [
       "0.749658964824245"
      ],
      "text/plain": [
       "[1] 0.749659"
      ]
     },
     "metadata": {},
     "output_type": "display_data"
    }
   ],
   "source": [
    "r <- cor(test1, test2, method = \"pearson\") #defaultで\"pearson\"。スピアマンなら\"spearman\"\n",
    "r"
   ]
  },
  {
   "cell_type": "code",
   "execution_count": 6,
   "metadata": {},
   "outputs": [
    {
     "data": {
      "text/html": [
       "20"
      ],
      "text/latex": [
       "20"
      ],
      "text/markdown": [
       "20"
      ],
      "text/plain": [
       "[1] 20"
      ]
     },
     "metadata": {},
     "output_type": "display_data"
    }
   ],
   "source": [
    "n <- length(test1)\n",
    "n"
   ]
  },
  {
   "cell_type": "code",
   "execution_count": 8,
   "metadata": {},
   "outputs": [
    {
     "data": {
      "text/html": [
       "4.80570675334372"
      ],
      "text/latex": [
       "4.80570675334372"
      ],
      "text/markdown": [
       "4.80570675334372"
      ],
      "text/plain": [
       "[1] 4.805707"
      ]
     },
     "metadata": {},
     "output_type": "display_data"
    }
   ],
   "source": [
    "t <- (r*(n-2)^(0.5))/((1-r^2))^(0.5)\n",
    "t"
   ]
  },
  {
   "cell_type": "markdown",
   "metadata": {},
   "source": [
    "$t$の実現値は4.8057と求まった。この統計量は、帰無仮説の元で、自由度$n-2=18$の$t$分布に従うので、qt関数で有意水準5%の時の棄却域を求めてみる。"
   ]
  },
  {
   "cell_type": "code",
   "execution_count": 1,
   "metadata": {},
   "outputs": [
    {
     "data": {
      "text/html": [
       "-2.10092204024104"
      ],
      "text/latex": [
       "-2.10092204024104"
      ],
      "text/markdown": [
       "-2.10092204024104"
      ],
      "text/plain": [
       "[1] -2.100922"
      ]
     },
     "metadata": {},
     "output_type": "display_data"
    }
   ],
   "source": [
    "qt(0.025, 18)"
   ]
  },
  {
   "cell_type": "code",
   "execution_count": 2,
   "metadata": {},
   "outputs": [
    {
     "data": {
      "text/html": [
       "2.10092204024104"
      ],
      "text/latex": [
       "2.10092204024104"
      ],
      "text/markdown": [
       "2.10092204024104"
      ],
      "text/plain": [
       "[1] 2.100922"
      ]
     },
     "metadata": {},
     "output_type": "display_data"
    }
   ],
   "source": [
    "qt(0.975, 18)"
   ]
  },
  {
   "cell_type": "markdown",
   "metadata": {},
   "source": [
    "これにより棄却域に入ることが確認できるので、帰無仮説は棄却される。<br>\n",
    "一連の検定を実施する関数はcor.test()"
   ]
  },
  {
   "cell_type": "code",
   "execution_count": null,
   "metadata": {},
   "outputs": [],
   "source": []
  },
  {
   "cell_type": "markdown",
   "metadata": {},
   "source": [
    "# 回帰分析"
   ]
  },
  {
   "cell_type": "markdown",
   "metadata": {},
   "source": [
    "## 単回帰モデルの解釈"
   ]
  },
  {
   "cell_type": "code",
   "execution_count": 12,
   "metadata": {},
   "outputs": [
    {
     "data": {
      "text/html": [
       "<table>\n",
       "<caption>A data.frame: 6 × 5</caption>\n",
       "<thead>\n",
       "\t<tr><th></th><th scope=col>Sepal.Length</th><th scope=col>Sepal.Width</th><th scope=col>Petal.Length</th><th scope=col>Petal.Width</th><th scope=col>Species</th></tr>\n",
       "\t<tr><th></th><th scope=col>&lt;dbl&gt;</th><th scope=col>&lt;dbl&gt;</th><th scope=col>&lt;dbl&gt;</th><th scope=col>&lt;dbl&gt;</th><th scope=col>&lt;fct&gt;</th></tr>\n",
       "</thead>\n",
       "<tbody>\n",
       "\t<tr><th scope=row>1</th><td>5.1</td><td>3.5</td><td>1.4</td><td>0.2</td><td>setosa</td></tr>\n",
       "\t<tr><th scope=row>2</th><td>4.9</td><td>3.0</td><td>1.4</td><td>0.2</td><td>setosa</td></tr>\n",
       "\t<tr><th scope=row>3</th><td>4.7</td><td>3.2</td><td>1.3</td><td>0.2</td><td>setosa</td></tr>\n",
       "\t<tr><th scope=row>4</th><td>4.6</td><td>3.1</td><td>1.5</td><td>0.2</td><td>setosa</td></tr>\n",
       "\t<tr><th scope=row>5</th><td>5.0</td><td>3.6</td><td>1.4</td><td>0.2</td><td>setosa</td></tr>\n",
       "\t<tr><th scope=row>6</th><td>5.4</td><td>3.9</td><td>1.7</td><td>0.4</td><td>setosa</td></tr>\n",
       "</tbody>\n",
       "</table>\n"
      ],
      "text/latex": [
       "A data.frame: 6 × 5\n",
       "\\begin{tabular}{r|lllll}\n",
       "  & Sepal.Length & Sepal.Width & Petal.Length & Petal.Width & Species\\\\\n",
       "  & <dbl> & <dbl> & <dbl> & <dbl> & <fct>\\\\\n",
       "\\hline\n",
       "\t1 & 5.1 & 3.5 & 1.4 & 0.2 & setosa\\\\\n",
       "\t2 & 4.9 & 3.0 & 1.4 & 0.2 & setosa\\\\\n",
       "\t3 & 4.7 & 3.2 & 1.3 & 0.2 & setosa\\\\\n",
       "\t4 & 4.6 & 3.1 & 1.5 & 0.2 & setosa\\\\\n",
       "\t5 & 5.0 & 3.6 & 1.4 & 0.2 & setosa\\\\\n",
       "\t6 & 5.4 & 3.9 & 1.7 & 0.4 & setosa\\\\\n",
       "\\end{tabular}\n"
      ],
      "text/markdown": [
       "\n",
       "A data.frame: 6 × 5\n",
       "\n",
       "| <!--/--> | Sepal.Length &lt;dbl&gt; | Sepal.Width &lt;dbl&gt; | Petal.Length &lt;dbl&gt; | Petal.Width &lt;dbl&gt; | Species &lt;fct&gt; |\n",
       "|---|---|---|---|---|---|\n",
       "| 1 | 5.1 | 3.5 | 1.4 | 0.2 | setosa |\n",
       "| 2 | 4.9 | 3.0 | 1.4 | 0.2 | setosa |\n",
       "| 3 | 4.7 | 3.2 | 1.3 | 0.2 | setosa |\n",
       "| 4 | 4.6 | 3.1 | 1.5 | 0.2 | setosa |\n",
       "| 5 | 5.0 | 3.6 | 1.4 | 0.2 | setosa |\n",
       "| 6 | 5.4 | 3.9 | 1.7 | 0.4 | setosa |\n",
       "\n"
      ],
      "text/plain": [
       "  Sepal.Length Sepal.Width Petal.Length Petal.Width Species\n",
       "1 5.1          3.5         1.4          0.2         setosa \n",
       "2 4.9          3.0         1.4          0.2         setosa \n",
       "3 4.7          3.2         1.3          0.2         setosa \n",
       "4 4.6          3.1         1.5          0.2         setosa \n",
       "5 5.0          3.6         1.4          0.2         setosa \n",
       "6 5.4          3.9         1.7          0.4         setosa "
      ]
     },
     "metadata": {},
     "output_type": "display_data"
    }
   ],
   "source": [
    "library(tidyverse)\n",
    "iris %>% head()"
   ]
  },
  {
   "cell_type": "code",
   "execution_count": 3,
   "metadata": {},
   "outputs": [
    {
     "data": {
      "text/plain": [
       "\n",
       "Call:\n",
       "lm(formula = iris$Petal.Width ~ iris$Petal.Length)\n",
       "\n",
       "Residuals:\n",
       "     Min       1Q   Median       3Q      Max \n",
       "-0.56515 -0.12358 -0.01898  0.13288  0.64272 \n",
       "\n",
       "Coefficients:\n",
       "                   Estimate Std. Error t value Pr(>|t|)    \n",
       "(Intercept)       -0.363076   0.039762  -9.131  4.7e-16 ***\n",
       "iris$Petal.Length  0.415755   0.009582  43.387  < 2e-16 ***\n",
       "---\n",
       "Signif. codes:  0 '***' 0.001 '**' 0.01 '*' 0.05 '.' 0.1 ' ' 1\n",
       "\n",
       "Residual standard error: 0.2065 on 148 degrees of freedom\n",
       "Multiple R-squared:  0.9271,\tAdjusted R-squared:  0.9266 \n",
       "F-statistic:  1882 on 1 and 148 DF,  p-value: < 2.2e-16\n"
      ]
     },
     "metadata": {},
     "output_type": "display_data"
    }
   ],
   "source": [
    "lin <- lm(iris$Petal.Width~iris$Petal.Length)\n",
    "summary(lin)"
   ]
  },
  {
   "cell_type": "markdown",
   "metadata": {},
   "source": [
    ">Residuals ： 残差（予測値と観測値の差）<br>\n",
    "Median ： 中央値<br>\n",
    "Coefficients ： 係数（aとかbのこと）<br>\n",
    "Estimate ： 推定値（aとかbの推定値のこと）<br>\n",
    "Std.Error（Standard Error） ： 標準誤差<br>\n",
    "t value ： t値<br>\n",
    "Pr(>|t|) ： p値<br>\n",
    "Intercept ： 切片<br>\n",
    "Signif. codes ： 有意性<br>\n",
    "Residual standard error ： 残差の標準誤差<br>\n",
    "degrees of freedom ： 自由度<br>\n",
    "Multiple R-squared ： 決定係数<br>\n",
    "Adjusted R-squared ： 自由度修正済み決定係数<br>\n",
    "F-statistic ： F検定<br>"
   ]
  },
  {
   "cell_type": "markdown",
   "metadata": {},
   "source": [
    "Coefficients の内容をみると、それぞれ -0.363076 および 0.415755 となっていることがわかる。<br>つまり、この解析結果から、回帰直線 y = 0.415755 - 0.363076 が求められた。<br>\n",
    "t値，p値は推定された「係数が0である」という帰無仮説を検定したもの．検定結果から帰無仮説が棄却できない，すなわち統計的に0でないとはいえない（0かもしれない）となると，YとXの関係がないことになるので，この回帰分析に意味がなくなる．\n",
    "棄却できた場合，この説明変数Xは被説明変数Yの要因として認められる，という結論を得ることができる.\n",
    "\n",
    "||意味|判断|\n",
    "|---|---|---|\n",
    "|①|P(T<=t)＜実験者が設定する棄却域の確率|帰無仮説を棄却|\n",
    "|②|t 境界値＜「t」の絶対値|帰無仮説を棄却|\n",
    "\n",
    "また、相関係数の大きさ(絶対値)と相関の程度の表現の対応関係は以下のように考えれば良いといわれている．\n",
    "\n",
    "1.0≧|R|≧0.7\t：高い相関がある<br>\n",
    "0.7≧|R|≧0.5\t：かなり高い相関がある<br>\n",
    "0.5≧|R|≧0.4\t：中程度の相関がある<br>\n",
    "0.4≧|R|≧0.3\t：ある程度の相関がある<br>\n",
    "0.3≧|R|≧0.2\t：弱い相関がある<br>\n",
    "0.2≧|R|≧0.0\t：ほとんど相関がない<br>"
   ]
  },
  {
   "cell_type": "markdown",
   "metadata": {},
   "source": [
    "相関係数の算出"
   ]
  },
  {
   "cell_type": "code",
   "execution_count": 6,
   "metadata": {
    "scrolled": true
   },
   "outputs": [
    {
     "data": {
      "text/html": [
       "0.962865431402796"
      ],
      "text/latex": [
       "0.962865431402796"
      ],
      "text/markdown": [
       "0.962865431402796"
      ],
      "text/plain": [
       "[1] 0.9628654"
      ]
     },
     "metadata": {},
     "output_type": "display_data"
    }
   ],
   "source": [
    "cor(iris$Petal.Length, iris$Petal.Width)"
   ]
  },
  {
   "cell_type": "markdown",
   "metadata": {},
   "source": [
    "単回帰直線の描画"
   ]
  },
  {
   "cell_type": "code",
   "execution_count": 10,
   "metadata": {},
   "outputs": [
    {
     "data": {
      "image/png": "[encoded data removed]",
      "text/plain": [
       "plot without title"
      ]
     },
     "metadata": {
      "image/png": {
       "height": 420,
       "width": 420
      },
      "text/plain": {
       "height": 420,
       "width": 420
      }
     },
     "output_type": "display_data"
    }
   ],
   "source": [
    "plot(iris$Petal.Length, iris$Petal.Width)\n",
    "abline(lin,lwd=1, col=\"red\")"
   ]
  },
  {
   "cell_type": "code",
   "execution_count": null,
   "metadata": {},
   "outputs": [],
   "source": []
  },
  {
   "cell_type": "markdown",
   "metadata": {},
   "source": [
    "## 重回帰モデルの解釈"
   ]
  },
  {
   "cell_type": "code",
   "execution_count": null,
   "metadata": {},
   "outputs": [],
   "source": []
  },
  {
   "cell_type": "code",
   "execution_count": null,
   "metadata": {},
   "outputs": [],
   "source": []
  },
  {
   "cell_type": "code",
   "execution_count": null,
   "metadata": {},
   "outputs": [],
   "source": [
    "li"
   ]
  },
  {
   "cell_type": "code",
   "execution_count": 6,
   "metadata": {},
   "outputs": [],
   "source": [
    "library(tidyverse)"
   ]
  },
  {
   "cell_type": "code",
   "execution_count": 7,
   "metadata": {},
   "outputs": [
    {
     "data": {
      "text/html": [
       "<table>\n",
       "<caption>A data.frame: 150 × 5</caption>\n",
       "<thead>\n",
       "\t<tr><th scope=col>Sepal.Length</th><th scope=col>Sepal.Width</th><th scope=col>Petal.Length</th><th scope=col>Petal.Width</th><th scope=col>Species</th></tr>\n",
       "\t<tr><th scope=col>&lt;dbl&gt;</th><th scope=col>&lt;dbl&gt;</th><th scope=col>&lt;dbl&gt;</th><th scope=col>&lt;dbl&gt;</th><th scope=col>&lt;fct&gt;</th></tr>\n",
       "</thead>\n",
       "<tbody>\n",
       "\t<tr><td>5.1</td><td>3.5</td><td>1.4</td><td>0.2</td><td>setosa</td></tr>\n",
       "\t<tr><td>4.9</td><td>3.0</td><td>1.4</td><td>0.2</td><td>setosa</td></tr>\n",
       "\t<tr><td>4.7</td><td>3.2</td><td>1.3</td><td>0.2</td><td>setosa</td></tr>\n",
       "\t<tr><td>4.6</td><td>3.1</td><td>1.5</td><td>0.2</td><td>setosa</td></tr>\n",
       "\t<tr><td>5.0</td><td>3.6</td><td>1.4</td><td>0.2</td><td>setosa</td></tr>\n",
       "\t<tr><td>5.4</td><td>3.9</td><td>1.7</td><td>0.4</td><td>setosa</td></tr>\n",
       "\t<tr><td>4.6</td><td>3.4</td><td>1.4</td><td>0.3</td><td>setosa</td></tr>\n",
       "\t<tr><td>5.0</td><td>3.4</td><td>1.5</td><td>0.2</td><td>setosa</td></tr>\n",
       "\t<tr><td>4.4</td><td>2.9</td><td>1.4</td><td>0.2</td><td>setosa</td></tr>\n",
       "\t<tr><td>4.9</td><td>3.1</td><td>1.5</td><td>0.1</td><td>setosa</td></tr>\n",
       "\t<tr><td>5.4</td><td>3.7</td><td>1.5</td><td>0.2</td><td>setosa</td></tr>\n",
       "\t<tr><td>4.8</td><td>3.4</td><td>1.6</td><td>0.2</td><td>setosa</td></tr>\n",
       "\t<tr><td>4.8</td><td>3.0</td><td>1.4</td><td>0.1</td><td>setosa</td></tr>\n",
       "\t<tr><td>4.3</td><td>3.0</td><td>1.1</td><td>0.1</td><td>setosa</td></tr>\n",
       "\t<tr><td>5.8</td><td>4.0</td><td>1.2</td><td>0.2</td><td>setosa</td></tr>\n",
       "\t<tr><td>5.7</td><td>4.4</td><td>1.5</td><td>0.4</td><td>setosa</td></tr>\n",
       "\t<tr><td>5.4</td><td>3.9</td><td>1.3</td><td>0.4</td><td>setosa</td></tr>\n",
       "\t<tr><td>5.1</td><td>3.5</td><td>1.4</td><td>0.3</td><td>setosa</td></tr>\n",
       "\t<tr><td>5.7</td><td>3.8</td><td>1.7</td><td>0.3</td><td>setosa</td></tr>\n",
       "\t<tr><td>5.1</td><td>3.8</td><td>1.5</td><td>0.3</td><td>setosa</td></tr>\n",
       "\t<tr><td>5.4</td><td>3.4</td><td>1.7</td><td>0.2</td><td>setosa</td></tr>\n",
       "\t<tr><td>5.1</td><td>3.7</td><td>1.5</td><td>0.4</td><td>setosa</td></tr>\n",
       "\t<tr><td>4.6</td><td>3.6</td><td>1.0</td><td>0.2</td><td>setosa</td></tr>\n",
       "\t<tr><td>5.1</td><td>3.3</td><td>1.7</td><td>0.5</td><td>setosa</td></tr>\n",
       "\t<tr><td>4.8</td><td>3.4</td><td>1.9</td><td>0.2</td><td>setosa</td></tr>\n",
       "\t<tr><td>5.0</td><td>3.0</td><td>1.6</td><td>0.2</td><td>setosa</td></tr>\n",
       "\t<tr><td>5.0</td><td>3.4</td><td>1.6</td><td>0.4</td><td>setosa</td></tr>\n",
       "\t<tr><td>5.2</td><td>3.5</td><td>1.5</td><td>0.2</td><td>setosa</td></tr>\n",
       "\t<tr><td>5.2</td><td>3.4</td><td>1.4</td><td>0.2</td><td>setosa</td></tr>\n",
       "\t<tr><td>4.7</td><td>3.2</td><td>1.6</td><td>0.2</td><td>setosa</td></tr>\n",
       "\t<tr><td>...</td><td>...</td><td>...</td><td>...</td><td>...</td></tr>\n",
       "\t<tr><td>6.9</td><td>3.2</td><td>5.7</td><td>2.3</td><td>virginica</td></tr>\n",
       "\t<tr><td>5.6</td><td>2.8</td><td>4.9</td><td>2.0</td><td>virginica</td></tr>\n",
       "\t<tr><td>7.7</td><td>2.8</td><td>6.7</td><td>2.0</td><td>virginica</td></tr>\n",
       "\t<tr><td>6.3</td><td>2.7</td><td>4.9</td><td>1.8</td><td>virginica</td></tr>\n",
       "\t<tr><td>6.7</td><td>3.3</td><td>5.7</td><td>2.1</td><td>virginica</td></tr>\n",
       "\t<tr><td>7.2</td><td>3.2</td><td>6.0</td><td>1.8</td><td>virginica</td></tr>\n",
       "\t<tr><td>6.2</td><td>2.8</td><td>4.8</td><td>1.8</td><td>virginica</td></tr>\n",
       "\t<tr><td>6.1</td><td>3.0</td><td>4.9</td><td>1.8</td><td>virginica</td></tr>\n",
       "\t<tr><td>6.4</td><td>2.8</td><td>5.6</td><td>2.1</td><td>virginica</td></tr>\n",
       "\t<tr><td>7.2</td><td>3.0</td><td>5.8</td><td>1.6</td><td>virginica</td></tr>\n",
       "\t<tr><td>7.4</td><td>2.8</td><td>6.1</td><td>1.9</td><td>virginica</td></tr>\n",
       "\t<tr><td>7.9</td><td>3.8</td><td>6.4</td><td>2.0</td><td>virginica</td></tr>\n",
       "\t<tr><td>6.4</td><td>2.8</td><td>5.6</td><td>2.2</td><td>virginica</td></tr>\n",
       "\t<tr><td>6.3</td><td>2.8</td><td>5.1</td><td>1.5</td><td>virginica</td></tr>\n",
       "\t<tr><td>6.1</td><td>2.6</td><td>5.6</td><td>1.4</td><td>virginica</td></tr>\n",
       "\t<tr><td>7.7</td><td>3.0</td><td>6.1</td><td>2.3</td><td>virginica</td></tr>\n",
       "\t<tr><td>6.3</td><td>3.4</td><td>5.6</td><td>2.4</td><td>virginica</td></tr>\n",
       "\t<tr><td>6.4</td><td>3.1</td><td>5.5</td><td>1.8</td><td>virginica</td></tr>\n",
       "\t<tr><td>6.0</td><td>3.0</td><td>4.8</td><td>1.8</td><td>virginica</td></tr>\n",
       "\t<tr><td>6.9</td><td>3.1</td><td>5.4</td><td>2.1</td><td>virginica</td></tr>\n",
       "\t<tr><td>6.7</td><td>3.1</td><td>5.6</td><td>2.4</td><td>virginica</td></tr>\n",
       "\t<tr><td>6.9</td><td>3.1</td><td>5.1</td><td>2.3</td><td>virginica</td></tr>\n",
       "\t<tr><td>5.8</td><td>2.7</td><td>5.1</td><td>1.9</td><td>virginica</td></tr>\n",
       "\t<tr><td>6.8</td><td>3.2</td><td>5.9</td><td>2.3</td><td>virginica</td></tr>\n",
       "\t<tr><td>6.7</td><td>3.3</td><td>5.7</td><td>2.5</td><td>virginica</td></tr>\n",
       "\t<tr><td>6.7</td><td>3.0</td><td>5.2</td><td>2.3</td><td>virginica</td></tr>\n",
       "\t<tr><td>6.3</td><td>2.5</td><td>5.0</td><td>1.9</td><td>virginica</td></tr>\n",
       "\t<tr><td>6.5</td><td>3.0</td><td>5.2</td><td>2.0</td><td>virginica</td></tr>\n",
       "\t<tr><td>6.2</td><td>3.4</td><td>5.4</td><td>2.3</td><td>virginica</td></tr>\n",
       "\t<tr><td>5.9</td><td>3.0</td><td>5.1</td><td>1.8</td><td>virginica</td></tr>\n",
       "</tbody>\n",
       "</table>\n"
      ],
      "text/latex": [
       "A data.frame: 150 × 5\n",
       "\\begin{tabular}{lllll}\n",
       " Sepal.Length & Sepal.Width & Petal.Length & Petal.Width & Species\\\\\n",
       " <dbl> & <dbl> & <dbl> & <dbl> & <fct>\\\\\n",
       "\\hline\n",
       "\t 5.1 & 3.5 & 1.4 & 0.2 & setosa\\\\\n",
       "\t 4.9 & 3.0 & 1.4 & 0.2 & setosa\\\\\n",
       "\t 4.7 & 3.2 & 1.3 & 0.2 & setosa\\\\\n",
       "\t 4.6 & 3.1 & 1.5 & 0.2 & setosa\\\\\n",
       "\t 5.0 & 3.6 & 1.4 & 0.2 & setosa\\\\\n",
       "\t 5.4 & 3.9 & 1.7 & 0.4 & setosa\\\\\n",
       "\t 4.6 & 3.4 & 1.4 & 0.3 & setosa\\\\\n",
       "\t 5.0 & 3.4 & 1.5 & 0.2 & setosa\\\\\n",
       "\t 4.4 & 2.9 & 1.4 & 0.2 & setosa\\\\\n",
       "\t 4.9 & 3.1 & 1.5 & 0.1 & setosa\\\\\n",
       "\t 5.4 & 3.7 & 1.5 & 0.2 & setosa\\\\\n",
       "\t 4.8 & 3.4 & 1.6 & 0.2 & setosa\\\\\n",
       "\t 4.8 & 3.0 & 1.4 & 0.1 & setosa\\\\\n",
       "\t 4.3 & 3.0 & 1.1 & 0.1 & setosa\\\\\n",
       "\t 5.8 & 4.0 & 1.2 & 0.2 & setosa\\\\\n",
       "\t 5.7 & 4.4 & 1.5 & 0.4 & setosa\\\\\n",
       "\t 5.4 & 3.9 & 1.3 & 0.4 & setosa\\\\\n",
       "\t 5.1 & 3.5 & 1.4 & 0.3 & setosa\\\\\n",
       "\t 5.7 & 3.8 & 1.7 & 0.3 & setosa\\\\\n",
       "\t 5.1 & 3.8 & 1.5 & 0.3 & setosa\\\\\n",
       "\t 5.4 & 3.4 & 1.7 & 0.2 & setosa\\\\\n",
       "\t 5.1 & 3.7 & 1.5 & 0.4 & setosa\\\\\n",
       "\t 4.6 & 3.6 & 1.0 & 0.2 & setosa\\\\\n",
       "\t 5.1 & 3.3 & 1.7 & 0.5 & setosa\\\\\n",
       "\t 4.8 & 3.4 & 1.9 & 0.2 & setosa\\\\\n",
       "\t 5.0 & 3.0 & 1.6 & 0.2 & setosa\\\\\n",
       "\t 5.0 & 3.4 & 1.6 & 0.4 & setosa\\\\\n",
       "\t 5.2 & 3.5 & 1.5 & 0.2 & setosa\\\\\n",
       "\t 5.2 & 3.4 & 1.4 & 0.2 & setosa\\\\\n",
       "\t 4.7 & 3.2 & 1.6 & 0.2 & setosa\\\\\n",
       "\t ... & ... & ... & ... & ...\\\\\n",
       "\t 6.9 & 3.2 & 5.7 & 2.3 & virginica\\\\\n",
       "\t 5.6 & 2.8 & 4.9 & 2.0 & virginica\\\\\n",
       "\t 7.7 & 2.8 & 6.7 & 2.0 & virginica\\\\\n",
       "\t 6.3 & 2.7 & 4.9 & 1.8 & virginica\\\\\n",
       "\t 6.7 & 3.3 & 5.7 & 2.1 & virginica\\\\\n",
       "\t 7.2 & 3.2 & 6.0 & 1.8 & virginica\\\\\n",
       "\t 6.2 & 2.8 & 4.8 & 1.8 & virginica\\\\\n",
       "\t 6.1 & 3.0 & 4.9 & 1.8 & virginica\\\\\n",
       "\t 6.4 & 2.8 & 5.6 & 2.1 & virginica\\\\\n",
       "\t 7.2 & 3.0 & 5.8 & 1.6 & virginica\\\\\n",
       "\t 7.4 & 2.8 & 6.1 & 1.9 & virginica\\\\\n",
       "\t 7.9 & 3.8 & 6.4 & 2.0 & virginica\\\\\n",
       "\t 6.4 & 2.8 & 5.6 & 2.2 & virginica\\\\\n",
       "\t 6.3 & 2.8 & 5.1 & 1.5 & virginica\\\\\n",
       "\t 6.1 & 2.6 & 5.6 & 1.4 & virginica\\\\\n",
       "\t 7.7 & 3.0 & 6.1 & 2.3 & virginica\\\\\n",
       "\t 6.3 & 3.4 & 5.6 & 2.4 & virginica\\\\\n",
       "\t 6.4 & 3.1 & 5.5 & 1.8 & virginica\\\\\n",
       "\t 6.0 & 3.0 & 4.8 & 1.8 & virginica\\\\\n",
       "\t 6.9 & 3.1 & 5.4 & 2.1 & virginica\\\\\n",
       "\t 6.7 & 3.1 & 5.6 & 2.4 & virginica\\\\\n",
       "\t 6.9 & 3.1 & 5.1 & 2.3 & virginica\\\\\n",
       "\t 5.8 & 2.7 & 5.1 & 1.9 & virginica\\\\\n",
       "\t 6.8 & 3.2 & 5.9 & 2.3 & virginica\\\\\n",
       "\t 6.7 & 3.3 & 5.7 & 2.5 & virginica\\\\\n",
       "\t 6.7 & 3.0 & 5.2 & 2.3 & virginica\\\\\n",
       "\t 6.3 & 2.5 & 5.0 & 1.9 & virginica\\\\\n",
       "\t 6.5 & 3.0 & 5.2 & 2.0 & virginica\\\\\n",
       "\t 6.2 & 3.4 & 5.4 & 2.3 & virginica\\\\\n",
       "\t 5.9 & 3.0 & 5.1 & 1.8 & virginica\\\\\n",
       "\\end{tabular}\n"
      ],
      "text/markdown": [
       "\n",
       "A data.frame: 150 × 5\n",
       "\n",
       "| Sepal.Length &lt;dbl&gt; | Sepal.Width &lt;dbl&gt; | Petal.Length &lt;dbl&gt; | Petal.Width &lt;dbl&gt; | Species &lt;fct&gt; |\n",
       "|---|---|---|---|---|\n",
       "| 5.1 | 3.5 | 1.4 | 0.2 | setosa |\n",
       "| 4.9 | 3.0 | 1.4 | 0.2 | setosa |\n",
       "| 4.7 | 3.2 | 1.3 | 0.2 | setosa |\n",
       "| 4.6 | 3.1 | 1.5 | 0.2 | setosa |\n",
       "| 5.0 | 3.6 | 1.4 | 0.2 | setosa |\n",
       "| 5.4 | 3.9 | 1.7 | 0.4 | setosa |\n",
       "| 4.6 | 3.4 | 1.4 | 0.3 | setosa |\n",
       "| 5.0 | 3.4 | 1.5 | 0.2 | setosa |\n",
       "| 4.4 | 2.9 | 1.4 | 0.2 | setosa |\n",
       "| 4.9 | 3.1 | 1.5 | 0.1 | setosa |\n",
       "| 5.4 | 3.7 | 1.5 | 0.2 | setosa |\n",
       "| 4.8 | 3.4 | 1.6 | 0.2 | setosa |\n",
       "| 4.8 | 3.0 | 1.4 | 0.1 | setosa |\n",
       "| 4.3 | 3.0 | 1.1 | 0.1 | setosa |\n",
       "| 5.8 | 4.0 | 1.2 | 0.2 | setosa |\n",
       "| 5.7 | 4.4 | 1.5 | 0.4 | setosa |\n",
       "| 5.4 | 3.9 | 1.3 | 0.4 | setosa |\n",
       "| 5.1 | 3.5 | 1.4 | 0.3 | setosa |\n",
       "| 5.7 | 3.8 | 1.7 | 0.3 | setosa |\n",
       "| 5.1 | 3.8 | 1.5 | 0.3 | setosa |\n",
       "| 5.4 | 3.4 | 1.7 | 0.2 | setosa |\n",
       "| 5.1 | 3.7 | 1.5 | 0.4 | setosa |\n",
       "| 4.6 | 3.6 | 1.0 | 0.2 | setosa |\n",
       "| 5.1 | 3.3 | 1.7 | 0.5 | setosa |\n",
       "| 4.8 | 3.4 | 1.9 | 0.2 | setosa |\n",
       "| 5.0 | 3.0 | 1.6 | 0.2 | setosa |\n",
       "| 5.0 | 3.4 | 1.6 | 0.4 | setosa |\n",
       "| 5.2 | 3.5 | 1.5 | 0.2 | setosa |\n",
       "| 5.2 | 3.4 | 1.4 | 0.2 | setosa |\n",
       "| 4.7 | 3.2 | 1.6 | 0.2 | setosa |\n",
       "| ... | ... | ... | ... | ... |\n",
       "| 6.9 | 3.2 | 5.7 | 2.3 | virginica |\n",
       "| 5.6 | 2.8 | 4.9 | 2.0 | virginica |\n",
       "| 7.7 | 2.8 | 6.7 | 2.0 | virginica |\n",
       "| 6.3 | 2.7 | 4.9 | 1.8 | virginica |\n",
       "| 6.7 | 3.3 | 5.7 | 2.1 | virginica |\n",
       "| 7.2 | 3.2 | 6.0 | 1.8 | virginica |\n",
       "| 6.2 | 2.8 | 4.8 | 1.8 | virginica |\n",
       "| 6.1 | 3.0 | 4.9 | 1.8 | virginica |\n",
       "| 6.4 | 2.8 | 5.6 | 2.1 | virginica |\n",
       "| 7.2 | 3.0 | 5.8 | 1.6 | virginica |\n",
       "| 7.4 | 2.8 | 6.1 | 1.9 | virginica |\n",
       "| 7.9 | 3.8 | 6.4 | 2.0 | virginica |\n",
       "| 6.4 | 2.8 | 5.6 | 2.2 | virginica |\n",
       "| 6.3 | 2.8 | 5.1 | 1.5 | virginica |\n",
       "| 6.1 | 2.6 | 5.6 | 1.4 | virginica |\n",
       "| 7.7 | 3.0 | 6.1 | 2.3 | virginica |\n",
       "| 6.3 | 3.4 | 5.6 | 2.4 | virginica |\n",
       "| 6.4 | 3.1 | 5.5 | 1.8 | virginica |\n",
       "| 6.0 | 3.0 | 4.8 | 1.8 | virginica |\n",
       "| 6.9 | 3.1 | 5.4 | 2.1 | virginica |\n",
       "| 6.7 | 3.1 | 5.6 | 2.4 | virginica |\n",
       "| 6.9 | 3.1 | 5.1 | 2.3 | virginica |\n",
       "| 5.8 | 2.7 | 5.1 | 1.9 | virginica |\n",
       "| 6.8 | 3.2 | 5.9 | 2.3 | virginica |\n",
       "| 6.7 | 3.3 | 5.7 | 2.5 | virginica |\n",
       "| 6.7 | 3.0 | 5.2 | 2.3 | virginica |\n",
       "| 6.3 | 2.5 | 5.0 | 1.9 | virginica |\n",
       "| 6.5 | 3.0 | 5.2 | 2.0 | virginica |\n",
       "| 6.2 | 3.4 | 5.4 | 2.3 | virginica |\n",
       "| 5.9 | 3.0 | 5.1 | 1.8 | virginica |\n",
       "\n"
      ],
      "text/plain": [
       "    Sepal.Length Sepal.Width Petal.Length Petal.Width Species  \n",
       "1   5.1          3.5         1.4          0.2         setosa   \n",
       "2   4.9          3.0         1.4          0.2         setosa   \n",
       "3   4.7          3.2         1.3          0.2         setosa   \n",
       "4   4.6          3.1         1.5          0.2         setosa   \n",
       "5   5.0          3.6         1.4          0.2         setosa   \n",
       "6   5.4          3.9         1.7          0.4         setosa   \n",
       "7   4.6          3.4         1.4          0.3         setosa   \n",
       "8   5.0          3.4         1.5          0.2         setosa   \n",
       "9   4.4          2.9         1.4          0.2         setosa   \n",
       "10  4.9          3.1         1.5          0.1         setosa   \n",
       "11  5.4          3.7         1.5          0.2         setosa   \n",
       "12  4.8          3.4         1.6          0.2         setosa   \n",
       "13  4.8          3.0         1.4          0.1         setosa   \n",
       "14  4.3          3.0         1.1          0.1         setosa   \n",
       "15  5.8          4.0         1.2          0.2         setosa   \n",
       "16  5.7          4.4         1.5          0.4         setosa   \n",
       "17  5.4          3.9         1.3          0.4         setosa   \n",
       "18  5.1          3.5         1.4          0.3         setosa   \n",
       "19  5.7          3.8         1.7          0.3         setosa   \n",
       "20  5.1          3.8         1.5          0.3         setosa   \n",
       "21  5.4          3.4         1.7          0.2         setosa   \n",
       "22  5.1          3.7         1.5          0.4         setosa   \n",
       "23  4.6          3.6         1.0          0.2         setosa   \n",
       "24  5.1          3.3         1.7          0.5         setosa   \n",
       "25  4.8          3.4         1.9          0.2         setosa   \n",
       "26  5.0          3.0         1.6          0.2         setosa   \n",
       "27  5.0          3.4         1.6          0.4         setosa   \n",
       "28  5.2          3.5         1.5          0.2         setosa   \n",
       "29  5.2          3.4         1.4          0.2         setosa   \n",
       "30  4.7          3.2         1.6          0.2         setosa   \n",
       "... ...          ...         ...          ...         ...      \n",
       "121 6.9          3.2         5.7          2.3         virginica\n",
       "122 5.6          2.8         4.9          2.0         virginica\n",
       "123 7.7          2.8         6.7          2.0         virginica\n",
       "124 6.3          2.7         4.9          1.8         virginica\n",
       "125 6.7          3.3         5.7          2.1         virginica\n",
       "126 7.2          3.2         6.0          1.8         virginica\n",
       "127 6.2          2.8         4.8          1.8         virginica\n",
       "128 6.1          3.0         4.9          1.8         virginica\n",
       "129 6.4          2.8         5.6          2.1         virginica\n",
       "130 7.2          3.0         5.8          1.6         virginica\n",
       "131 7.4          2.8         6.1          1.9         virginica\n",
       "132 7.9          3.8         6.4          2.0         virginica\n",
       "133 6.4          2.8         5.6          2.2         virginica\n",
       "134 6.3          2.8         5.1          1.5         virginica\n",
       "135 6.1          2.6         5.6          1.4         virginica\n",
       "136 7.7          3.0         6.1          2.3         virginica\n",
       "137 6.3          3.4         5.6          2.4         virginica\n",
       "138 6.4          3.1         5.5          1.8         virginica\n",
       "139 6.0          3.0         4.8          1.8         virginica\n",
       "140 6.9          3.1         5.4          2.1         virginica\n",
       "141 6.7          3.1         5.6          2.4         virginica\n",
       "142 6.9          3.1         5.1          2.3         virginica\n",
       "143 5.8          2.7         5.1          1.9         virginica\n",
       "144 6.8          3.2         5.9          2.3         virginica\n",
       "145 6.7          3.3         5.7          2.5         virginica\n",
       "146 6.7          3.0         5.2          2.3         virginica\n",
       "147 6.3          2.5         5.0          1.9         virginica\n",
       "148 6.5          3.0         5.2          2.0         virginica\n",
       "149 6.2          3.4         5.4          2.3         virginica\n",
       "150 5.9          3.0         5.1          1.8         virginica"
      ]
     },
     "metadata": {},
     "output_type": "display_data"
    }
   ],
   "source": [
    "iris"
   ]
  },
  {
   "cell_type": "code",
   "execution_count": 18,
   "metadata": {},
   "outputs": [
    {
     "name": "stderr",
     "output_type": "stream",
     "text": [
      "Warning message in .f(.x[[i]], ...):\n",
      "\"data set '.x[[i]]' not found\"\n",
      "Warning message in .f(.x[[i]], ...):\n",
      "\"data set '~mean(data)' not found\"\n"
     ]
    },
    {
     "ename": "ERROR",
     "evalue": "Error: Result 1 must be a single double, not a character vector of length 2\n",
     "output_type": "error",
     "traceback": [
      "Error: Result 1 must be a single double, not a character vector of length 2\nTraceback:\n",
      "1. iris %>% group_by(Species) %>% nest() %>% map_dbl(data, ~mean(data))",
      "2. withVisible(eval(quote(`_fseq`(`_lhs`)), env, env))",
      "3. eval(quote(`_fseq`(`_lhs`)), env, env)",
      "4. eval(quote(`_fseq`(`_lhs`)), env, env)",
      "5. `_fseq`(`_lhs`)",
      "6. freduce(value, `_function_list`)",
      "7. withVisible(function_list[[k]](value))",
      "8. function_list[[k]](value)",
      "9. map_dbl(., data, ~mean(data))",
      "10. purrr:::stop_bad_element_vector(c(\".x[[i]]\", \"~mean(data)\"), \n  .     1, numeric(0), 1, what = \"Result\", arg = NULL, recycle = FALSE)",
      "11. stop_bad_vector(x, expected_ptype, expected_length, what = what, \n  .     arg = arg, index = index, ..., recycle = recycle, message = message, \n  .     .subclass = c(.subclass, \"purrr_error_bad_element_vector\"))",
      "12. stop_bad_type(x, expected, actual = actual, what = what, arg = arg, \n  .     recycle = recycle, message = message, .subclass = c(.subclass, \n  .         \"purrr_error_bad_vector\"))",
      "13. abort(message, x = x, expected = expected, actual = actual, what = what, \n  .     arg = arg, ..., .subclass = c(.subclass, \"purrr_error_bad_type\"))",
      "14. signal_abort(cnd)"
     ]
    }
   ],
   "source": [
    "iris %>% group_by(Species) %>% nest() %>% map_dbl(data , ~mean(data) )"
   ]
  }
 ],
 "metadata": {
  "kernelspec": {
   "display_name": "R",
   "language": "R",
   "name": "ir"
  },
  "language_info": {
   "codemirror_mode": "r",
   "file_extension": ".r",
   "mimetype": "text/x-r-source",
   "name": "R",
   "pygments_lexer": "r",
   "version": "3.6.3"
  },
  "nteract": {
   "version": "nteract-on-jupyter@2.1.3"
  },
  "toc": {
   "base_numbering": 1,
   "nav_menu": {},
   "number_sections": true,
   "sideBar": true,
   "skip_h1_title": false,
   "title_cell": "Table of Contents",
   "title_sidebar": "Contents",
   "toc_cell": true,
   "toc_position": {
    "height": "calc(100% - 180px)",
    "left": "10px",
    "top": "150px",
    "width": "258px"
   },
   "toc_section_display": true,
   "toc_window_display": true
  },
  "toc-autonumbering": true,
  "toc-showcode": false,
  "toc-showmarkdowntxt": false,
  "toc-showtags": true
 },
 "nbformat": 4,
 "nbformat_minor": 4
}
